{
  "cells": [
    {
      "cell_type": "code",
      "execution_count": 2,
      "metadata": {
        "id": "VHUUz3YMBGqw"
      },
      "outputs": [],
      "source": [
        "import pandas as pd\n",
        "import numpy as np\n",
        "import matplotlib.pyplot as plt\n",
        "import seaborn as sns\n",
        "%matplotlib inline"
      ]
    },
    {
      "cell_type": "code",
      "execution_count": 3,
      "metadata": {
        "id": "C9TU-6tXB_j6"
      },
      "outputs": [],
      "source": [
        "# Load Google play data as a DataFrame named df_google\n",
        "df_google=pd.read_csv('/content/drive/MyDrive/Google-Playstore.csv')"
      ]
    },
    {
      "cell_type": "markdown",
      "metadata": {
        "id": "o-E0bunPgbbL"
      },
      "source": [
        "# Getting to know the data"
      ]
    },
    {
      "cell_type": "code",
      "execution_count": 4,
      "metadata": {
        "colab": {
          "base_uri": "https://localhost:8080/"
        },
        "id": "Rx7HuybiDS6K",
        "outputId": "38ac76f9-b442-4331-af4c-845da4c6d3c5"
      },
      "outputs": [
        {
          "output_type": "stream",
          "name": "stdout",
          "text": [
            "<class 'pandas.core.frame.DataFrame'>\n",
            "RangeIndex: 2312944 entries, 0 to 2312943\n",
            "Data columns (total 24 columns):\n",
            " #   Column             Dtype  \n",
            "---  ------             -----  \n",
            " 0   App Name           object \n",
            " 1   App Id             object \n",
            " 2   Category           object \n",
            " 3   Rating             float64\n",
            " 4   Rating Count       float64\n",
            " 5   Installs           object \n",
            " 6   Minimum Installs   float64\n",
            " 7   Maximum Installs   int64  \n",
            " 8   Free               bool   \n",
            " 9   Price              float64\n",
            " 10  Currency           object \n",
            " 11  Size               object \n",
            " 12  Minimum Android    object \n",
            " 13  Developer Id       object \n",
            " 14  Developer Website  object \n",
            " 15  Developer Email    object \n",
            " 16  Released           object \n",
            " 17  Last Updated       object \n",
            " 18  Content Rating     object \n",
            " 19  Privacy Policy     object \n",
            " 20  Ad Supported       bool   \n",
            " 21  In App Purchases   bool   \n",
            " 22  Editors Choice     bool   \n",
            " 23  Scraped Time       object \n",
            "dtypes: bool(4), float64(4), int64(1), object(15)\n",
            "memory usage: 361.8+ MB\n"
          ]
        }
      ],
      "source": [
        "df_google.info()"
      ]
    },
    {
      "cell_type": "markdown",
      "metadata": {
        "id": "cIxMI7_Agk01"
      },
      "source": [
        "# Missing values in the data"
      ]
    },
    {
      "cell_type": "code",
      "execution_count": 5,
      "metadata": {
        "colab": {
          "base_uri": "https://localhost:8080/"
        },
        "id": "5zyo0yHdXIXT",
        "outputId": "39b04ff3-1a0a-47de-f3ac-9e2855e00c0d"
      },
      "outputs": [
        {
          "output_type": "execute_result",
          "data": {
            "text/plain": [
              "Developer Website    760835\n",
              "Privacy Policy       420953\n",
              "Released              71053\n",
              "Rating                22883\n",
              "Rating Count          22883\n",
              "Minimum Android        6530\n",
              "Size                    196\n",
              "Currency                135\n",
              "Installs                107\n",
              "Minimum Installs        107\n",
              "Developer Id             33\n",
              "Developer Email          31\n",
              "App Name                  2\n",
              "App Id                    0\n",
              "Price                     0\n",
              "Free                      0\n",
              "Maximum Installs          0\n",
              "Last Updated              0\n",
              "Content Rating            0\n",
              "Category                  0\n",
              "Ad Supported              0\n",
              "In App Purchases          0\n",
              "Editors Choice            0\n",
              "Scraped Time              0\n",
              "dtype: int64"
            ]
          },
          "metadata": {},
          "execution_count": 5
        }
      ],
      "source": [
        "df_google.isnull().sum().sort_values(ascending = False)"
      ]
    },
    {
      "cell_type": "markdown",
      "metadata": {
        "id": "cfcCxjPFg07v"
      },
      "source": [
        "# **Data Cleaning and Visualization**"
      ]
    },
    {
      "cell_type": "code",
      "execution_count": 6,
      "metadata": {
        "colab": {
          "base_uri": "https://localhost:8080/",
          "height": 492
        },
        "id": "p3hRtH3xg_oz",
        "outputId": "8049cb9d-68b6-47d3-8aa5-c7588f698cbd"
      },
      "outputs": [
        {
          "output_type": "execute_result",
          "data": {
            "text/plain": [
              "Text(0.5, 1.0, 'Missing null values')"
            ]
          },
          "metadata": {},
          "execution_count": 6
        },
        {
          "output_type": "display_data",
          "data": {
            "text/plain": [
              "<Figure size 1440x432 with 1 Axes>"
            ],
            "image/png": "[encoded data removed]"
          },
          "metadata": {
            "needs_background": "light"
          }
        }
      ],
      "source": [
        "import matplotlib\n",
        "matplotlib.rcParams['figure.figsize'] = (20,6)\n",
        "sns.heatmap(df_google.isnull(),yticklabels = False, cbar = False , cmap = 'viridis')\n",
        "plt.title(\"Missing null values\")"
      ]
    },
    {
      "cell_type": "code",
      "execution_count": 7,
      "metadata": {
        "colab": {
          "base_uri": "https://localhost:8080/"
        },
        "id": "4Ju3zX1-hXVA",
        "outputId": "68c4e9a8-6013-4e8d-ad55-f265a78690a9"
      },
      "outputs": [
        {
          "output_type": "execute_result",
          "data": {
            "text/plain": [
              "Developer Website    3.289466e-01\n",
              "Privacy Policy       1.819988e-01\n",
              "Released             3.071972e-02\n",
              "Rating               9.893452e-03\n",
              "Rating Count         9.893452e-03\n",
              "Minimum Android      2.823242e-03\n",
              "Size                 8.474049e-05\n",
              "Currency             5.836717e-05\n",
              "Installs             4.626139e-05\n",
              "Minimum Installs     4.626139e-05\n",
              "Developer Id         1.426753e-05\n",
              "Developer Email      1.340283e-05\n",
              "App Name             8.646988e-07\n",
              "App Id               0.000000e+00\n",
              "Price                0.000000e+00\n",
              "Free                 0.000000e+00\n",
              "Maximum Installs     0.000000e+00\n",
              "Last Updated         0.000000e+00\n",
              "Content Rating       0.000000e+00\n",
              "Category             0.000000e+00\n",
              "Ad Supported         0.000000e+00\n",
              "In App Purchases     0.000000e+00\n",
              "Editors Choice       0.000000e+00\n",
              "Scraped Time         0.000000e+00\n",
              "dtype: float64"
            ]
          },
          "metadata": {},
          "execution_count": 7
        }
      ],
      "source": [
        "missing_percentage_google = df_google.isnull().sum().sort_values(ascending = False)/len(df_google)\n",
        "missing_percentage_google"
      ]
    },
    {
      "cell_type": "code",
      "execution_count": 8,
      "metadata": {
        "colab": {
          "base_uri": "https://localhost:8080/",
          "height": 408
        },
        "id": "XtPVoWNwZJ_7",
        "outputId": "7df39f71-38fb-435d-8243-8c83e1990b7e"
      },
      "outputs": [
        {
          "output_type": "execute_result",
          "data": {
            "text/plain": [
              "Text(0.5, 1.0, 'Missig percentage of null values in google play apps')"
            ]
          },
          "metadata": {},
          "execution_count": 8
        },
        {
          "output_type": "display_data",
          "data": {
            "text/plain": [
              "<Figure size 1440x432 with 1 Axes>"
            ],
            "image/png": "[encoded data removed]"
          },
          "metadata": {
            "needs_background": "light"
          }
        }
      ],
      "source": [
        "missing_percentage_google = missing_percentage_google[missing_percentage_google != 0] # Only the missing data\n",
        "import matplotlib\n",
        "matplotlib.rcParams['figure.figsize'] = (20,6)\n",
        "missing_percentage_google.plot(kind = 'barh')\n",
        "plt.title(\"Missig percentage of null values in google play apps\")"
      ]
    },
    {
      "cell_type": "markdown",
      "metadata": {
        "id": "_qKY7imEivRz"
      },
      "source": [
        "**The columns having highest percentage of null values are :**\n",
        "\n",
        "1. Developer Website\n",
        "2. Privacy Policy"
      ]
    },
    {
      "cell_type": "markdown",
      "metadata": {
        "id": "u4BzP04Mjjoo"
      },
      "source": [
        "**we can drop the small null values for the columns**\n",
        "\n",
        "\n",
        "*  Size\n",
        "*  Currency\n",
        "\n",
        "\n",
        "*   Installs\n",
        "*  Minimum Installs\n",
        "*  Developer Id\n",
        "*  Developer Email\n",
        "\n",
        "**The rest are important columns so it is good to fill the null values**\n",
        "* Rating\n",
        "* Rating count\n",
        "* Minimum Andriod\n",
        "* Released"
      ]
    },
    {
      "cell_type": "code",
      "execution_count": 9,
      "metadata": {
        "id": "BbGaGbA0jdyL"
      },
      "outputs": [],
      "source": [
        "df_google.dropna(subset = ['App Name','Size','Currency','Installs','Minimum Installs','Developer Id','Developer Email'], inplace = True)"
      ]
    },
    {
      "cell_type": "code",
      "execution_count": 10,
      "metadata": {
        "colab": {
          "base_uri": "https://localhost:8080/"
        },
        "id": "3PPt7dJbhsYy",
        "outputId": "e70b5420-c9de-4749-e40e-cbafa87df41a"
      },
      "outputs": [
        {
          "output_type": "execute_result",
          "data": {
            "text/plain": [
              "App Name                  0\n",
              "App Id                    0\n",
              "Category                  0\n",
              "Rating                22572\n",
              "Rating Count          22572\n",
              "Installs                  0\n",
              "Minimum Installs          0\n",
              "Maximum Installs          0\n",
              "Free                      0\n",
              "Price                     0\n",
              "Currency                  0\n",
              "Size                      0\n",
              "Minimum Android        6530\n",
              "Developer Id              0\n",
              "Developer Website    760716\n",
              "Developer Email           0\n",
              "Released              70748\n",
              "Last Updated              0\n",
              "Content Rating            0\n",
              "Privacy Policy       420845\n",
              "Ad Supported              0\n",
              "In App Purchases          0\n",
              "Editors Choice            0\n",
              "Scraped Time              0\n",
              "dtype: int64"
            ]
          },
          "metadata": {},
          "execution_count": 10
        }
      ],
      "source": [
        "df_google.isnull().sum()"
      ]
    },
    {
      "cell_type": "markdown",
      "metadata": {
        "id": "568yW9H6miZz"
      },
      "source": [
        "**Exploring the numerical columns**"
      ]
    },
    {
      "cell_type": "code",
      "execution_count": 11,
      "metadata": {
        "colab": {
          "base_uri": "https://localhost:8080/"
        },
        "id": "KXA3obvOhsDK",
        "outputId": "870e7eee-42ce-46e2-b6c9-d62f9c1db76e"
      },
      "outputs": [
        {
          "output_type": "execute_result",
          "data": {
            "text/plain": [
              "array(['10+', '5,000+', '50+', '100+', '1,000+', '500+', '50,000+',\n",
              "       '10,000+', '1+', '500,000+', '100,000+', '5+', '10,000,000+',\n",
              "       '1,000,000+', '5,000,000+', '0+', '100,000,000+', '50,000,000+',\n",
              "       '1,000,000,000+', '500,000,000+', '5,000,000,000+',\n",
              "       '10,000,000,000+'], dtype=object)"
            ]
          },
          "metadata": {},
          "execution_count": 11
        }
      ],
      "source": [
        "df_google['Installs'].unique()"
      ]
    },
    {
      "cell_type": "code",
      "execution_count": 12,
      "metadata": {
        "id": "XcCQ4iGKhqza"
      },
      "outputs": [],
      "source": [
        "df_google['Installs'] = df_google['Installs'].str.split('+').str[0]    # reomoves the + symbol\n",
        "df_google['Installs'].replace(',','', regex=True, inplace=True) #replace the commas ',' in the install column\n",
        "df_google['Installs'] = df_google['Installs'].astype(int)              # converting it to the int type"
      ]
    },
    {
      "cell_type": "code",
      "execution_count": 13,
      "metadata": {
        "colab": {
          "base_uri": "https://localhost:8080/"
        },
        "id": "CnxcIxy0hqwt",
        "outputId": "e0ab73a2-2144-40a7-e55c-cd710e32db6e"
      },
      "outputs": [
        {
          "output_type": "execute_result",
          "data": {
            "text/plain": [
              "array([         10,        5000,          50,         100,        1000,\n",
              "               500,       50000,       10000,           1,      500000,\n",
              "            100000,           5,    10000000,     1000000,     5000000,\n",
              "                 0,   100000000,    50000000,  1000000000,   500000000,\n",
              "        5000000000, 10000000000])"
            ]
          },
          "metadata": {},
          "execution_count": 13
        }
      ],
      "source": [
        "df_google['Installs'].unique()"
      ]
    },
    {
      "cell_type": "code",
      "execution_count": 14,
      "metadata": {
        "colab": {
          "base_uri": "https://localhost:8080/"
        },
        "id": "wn8R1NFynCDE",
        "outputId": "f7553a08-34f1-4331-e5e3-d109bf773ff3"
      },
      "outputs": [
        {
          "output_type": "execute_result",
          "data": {
            "text/plain": [
              "array(['10M', '2.9M', '3.7M', ..., '405M', '3.2k', '512M'], dtype=object)"
            ]
          },
          "metadata": {},
          "execution_count": 14
        }
      ],
      "source": [
        "df_google['Size'].unique()"
      ]
    },
    {
      "cell_type": "markdown",
      "metadata": {
        "id": "_2XluzSrnOSb"
      },
      "source": [
        "**The Size of data can be in GB, MB and KB let's convert the data into the size in MB**"
      ]
    },
    {
      "cell_type": "code",
      "execution_count": 15,
      "metadata": {
        "id": "cePtpQvJnrq6"
      },
      "outputs": [],
      "source": [
        "df_google['Size'] = df_google['Size'].apply(lambda x: str(x).replace('Varies with device', '0') if 'Varies with device' in str(x) else x)"
      ]
    },
    {
      "cell_type": "code",
      "execution_count": 16,
      "metadata": {
        "id": "RFqih5h2nB8r"
      },
      "outputs": [],
      "source": [
        "df_google['Size'] = df_google['Size'].apply(lambda x: str(x).replace('M', '') if 'M' in str(x) else x)"
      ]
    },
    {
      "cell_type": "code",
      "execution_count": 17,
      "metadata": {
        "id": "2436kKZInB44"
      },
      "outputs": [],
      "source": [
        "df_google['Size'] = df_google['Size'].apply(lambda x: str(x).replace(',', '.') if ',' in str(x) else x)"
      ]
    },
    {
      "cell_type": "code",
      "execution_count": 18,
      "metadata": {
        "id": "vjibxD8wnB2G"
      },
      "outputs": [],
      "source": [
        "df_google['Size'] = df_google['Size'].apply(lambda x: float(str(x).replace('k', '')) / 1000 if 'k' in str(x) else x)"
      ]
    },
    {
      "cell_type": "code",
      "execution_count": 19,
      "metadata": {
        "id": "0ib7GPk7nBzt"
      },
      "outputs": [],
      "source": [
        "df_google['Size'] = df_google['Size'].apply(lambda x: float(str(x).replace('G', '')) * 1000 if 'G' in str(x) else x)"
      ]
    },
    {
      "cell_type": "code",
      "execution_count": 20,
      "metadata": {
        "id": "-artzBzlnBxd"
      },
      "outputs": [],
      "source": [
        "df_google['Size'] = df_google['Size'].apply(lambda x: float(x))"
      ]
    },
    {
      "cell_type": "code",
      "execution_count": 21,
      "metadata": {
        "colab": {
          "base_uri": "https://localhost:8080/"
        },
        "id": "bk35ajfwnzxS",
        "outputId": "81c6c945-4952-4d83-fb4a-d062aa068b90"
      },
      "outputs": [
        {
          "output_type": "execute_result",
          "data": {
            "text/plain": [
              "dtype('float64')"
            ]
          },
          "metadata": {},
          "execution_count": 21
        }
      ],
      "source": [
        "df_google.dtypes['Size']"
      ]
    },
    {
      "cell_type": "markdown",
      "metadata": {
        "id": "n5ZJRm4CoxDw"
      },
      "source": [
        "**Getting the released year out of Released column** "
      ]
    },
    {
      "cell_type": "code",
      "execution_count": 22,
      "metadata": {
        "colab": {
          "base_uri": "https://localhost:8080/"
        },
        "id": "K1SgFgRepTU5",
        "outputId": "46805a67-c0ff-4444-c205-2cd7d0c318ec"
      },
      "outputs": [
        {
          "output_type": "execute_result",
          "data": {
            "text/plain": [
              "dtype('O')"
            ]
          },
          "metadata": {},
          "execution_count": 22
        }
      ],
      "source": [
        "df_google['Released'].dtypes"
      ]
    },
    {
      "cell_type": "code",
      "execution_count": 23,
      "metadata": {
        "colab": {
          "base_uri": "https://localhost:8080/"
        },
        "id": "yE9owmwZpn2-",
        "outputId": "3a50c1c5-b018-4f3c-8bf6-62ed21e5bf44"
      },
      "outputs": [
        {
          "output_type": "execute_result",
          "data": {
            "text/plain": [
              "0          Feb 26, 2020\n",
              "1          May 21, 2020\n",
              "2           Aug 9, 2019\n",
              "3          Sep 10, 2018\n",
              "4          Feb 21, 2020\n",
              "               ...     \n",
              "2312939             NaN\n",
              "2312940    Jan 17, 2018\n",
              "2312941    Aug 19, 2018\n",
              "2312942     Aug 1, 2016\n",
              "2312943     Aug 9, 2019\n",
              "Name: Released, Length: 2312548, dtype: object"
            ]
          },
          "metadata": {},
          "execution_count": 23
        }
      ],
      "source": [
        "df_google['Released']"
      ]
    },
    {
      "cell_type": "code",
      "execution_count": 24,
      "metadata": {
        "id": "V9vLCKCWrG00"
      },
      "outputs": [],
      "source": [
        "df_google['Released']=pd.to_datetime(df_google['Released'])"
      ]
    },
    {
      "cell_type": "code",
      "execution_count": 25,
      "metadata": {
        "id": "2fypXd6Kn-gD"
      },
      "outputs": [],
      "source": [
        "df_google['year_released']=df_google['Released'].dt.year"
      ]
    },
    {
      "cell_type": "code",
      "execution_count": 26,
      "metadata": {
        "id": "R7mJkbdIsmWx",
        "colab": {
          "base_uri": "https://localhost:8080/"
        },
        "outputId": "f66ed904-2a2e-4672-f0b1-907841fec826"
      },
      "outputs": [
        {
          "output_type": "execute_result",
          "data": {
            "text/plain": [
              "0          2020.0\n",
              "1          2020.0\n",
              "2          2019.0\n",
              "3          2018.0\n",
              "4          2020.0\n",
              "            ...  \n",
              "2312939       NaN\n",
              "2312940    2018.0\n",
              "2312941    2018.0\n",
              "2312942    2016.0\n",
              "2312943    2019.0\n",
              "Name: year_released, Length: 2312548, dtype: float64"
            ]
          },
          "metadata": {},
          "execution_count": 26
        }
      ],
      "source": [
        "df_google['year_released']"
      ]
    },
    {
      "cell_type": "markdown",
      "metadata": {
        "id": "a9-MrL5brmna"
      },
      "source": [
        "**Creataing the column type for free and paid Apps by using the Free column, it's helpfull while dealing with the paid and Free Apps**"
      ]
    },
    {
      "cell_type": "code",
      "execution_count": 27,
      "metadata": {
        "id": "qrK1U_OYr5iP"
      },
      "outputs": [],
      "source": [
        "df_google['Type'] = np.where(df_google['Free'] == True,'Free','Paid')"
      ]
    },
    {
      "cell_type": "code",
      "execution_count": 28,
      "metadata": {
        "id": "H9qcU1nNtMC3",
        "colab": {
          "base_uri": "https://localhost:8080/"
        },
        "outputId": "e4cb6cc0-f851-4a78-b2f7-d9657c06f087"
      },
      "outputs": [
        {
          "output_type": "execute_result",
          "data": {
            "text/plain": [
              "Free    2267619\n",
              "Paid      44929\n",
              "Name: Type, dtype: int64"
            ]
          },
          "metadata": {},
          "execution_count": 28
        }
      ],
      "source": [
        "df_google['Type'].value_counts()"
      ]
    },
    {
      "cell_type": "code",
      "execution_count": 29,
      "metadata": {
        "id": "074LyBoVtbJy"
      },
      "outputs": [],
      "source": [
        "df_google.drop(['Free'],axis=1, inplace= True)"
      ]
    },
    {
      "cell_type": "code",
      "execution_count": 30,
      "metadata": {
        "id": "8g4WpA7vtgIM",
        "colab": {
          "base_uri": "https://localhost:8080/"
        },
        "outputId": "c97375d2-967d-438c-89b1-f52925ebb6bb"
      },
      "outputs": [
        {
          "output_type": "execute_result",
          "data": {
            "text/plain": [
              "Index(['App Name', 'App Id', 'Category', 'Rating', 'Rating Count', 'Installs',\n",
              "       'Minimum Installs', 'Maximum Installs', 'Price', 'Currency', 'Size',\n",
              "       'Minimum Android', 'Developer Id', 'Developer Website',\n",
              "       'Developer Email', 'Released', 'Last Updated', 'Content Rating',\n",
              "       'Privacy Policy', 'Ad Supported', 'In App Purchases', 'Editors Choice',\n",
              "       'Scraped Time', 'year_released', 'Type'],\n",
              "      dtype='object')"
            ]
          },
          "metadata": {},
          "execution_count": 30
        }
      ],
      "source": [
        "df_google.columns"
      ]
    },
    {
      "cell_type": "markdown",
      "metadata": {
        "id": "nosBJiGXrsln"
      },
      "source": [
        "**cleaning the content Rating column**"
      ]
    },
    {
      "cell_type": "code",
      "execution_count": 31,
      "metadata": {
        "id": "C8W8OQnHscv1",
        "colab": {
          "base_uri": "https://localhost:8080/"
        },
        "outputId": "2070dc77-f548-4af8-d48f-7780ff3d4a11"
      },
      "outputs": [
        {
          "output_type": "execute_result",
          "data": {
            "text/plain": [
              "array(['Everyone', 'Teen', 'Mature 17+', 'Everyone 10+',\n",
              "       'Adults only 18+', 'Unrated'], dtype=object)"
            ]
          },
          "metadata": {},
          "execution_count": 31
        }
      ],
      "source": [
        "df_google['Content Rating'].unique()"
      ]
    },
    {
      "cell_type": "markdown",
      "metadata": {
        "id": "9o5aqAsnsYQk"
      },
      "source": [
        "we have varies Categories in the content Rating column :\n",
        "* Everyone\n",
        "* Teen\n",
        "* Mature 17+\n",
        "* Everyone 10+\n",
        "* Unrated\n",
        "* Adults only 18+\n",
        "Now, we makes this Categories to a simple 3 Categories for better understanding :\n",
        "Everyone, Teen, Adults\n",
        "\n",
        "* Mature 17+ ----> to Adults\n",
        "* Everyone 10+ ----> to Teen\n",
        "* Unrated ----> to Everyone\n",
        "* Adults only 18+ -> to Adults"
      ]
    },
    {
      "cell_type": "code",
      "execution_count": 32,
      "metadata": {
        "id": "z1KJUCO6sMCA"
      },
      "outputs": [],
      "source": [
        "df_google[\"Content Rating\"]=df_google[\"Content Rating\"].replace(\"Unrated\",\"Everyone\")\n",
        "df_google[\"Content Rating\"]=df_google[\"Content Rating\"].replace(\"Everyone 10+\",\"Teen\")\n",
        "df_google[\"Content Rating\"]=df_google[\"Content Rating\"].replace(\"Mature 17+\",\"Adults\")\n",
        "df_google[\"Content Rating\"]=df_google[\"Content Rating\"].replace(\"Adults only 18+\",\"Adults\")"
      ]
    },
    {
      "cell_type": "code",
      "execution_count": 33,
      "metadata": {
        "id": "REPaGOz2ryNA",
        "colab": {
          "base_uri": "https://localhost:8080/"
        },
        "outputId": "6b784b67-029b-4190-85ec-53b929959379"
      },
      "outputs": [
        {
          "output_type": "execute_result",
          "data": {
            "text/plain": [
              "array(['Everyone', 'Teen', 'Adults'], dtype=object)"
            ]
          },
          "metadata": {},
          "execution_count": 33
        }
      ],
      "source": [
        "df_google['Content Rating'].unique()"
      ]
    },
    {
      "cell_type": "code",
      "execution_count": 34,
      "metadata": {
        "id": "3BjZAPaRn-dv",
        "colab": {
          "base_uri": "https://localhost:8080/"
        },
        "outputId": "19372647-19a2-43f5-f68d-dbbb33847824"
      },
      "outputs": [
        {
          "output_type": "execute_result",
          "data": {
            "text/plain": [
              "Less than 10K           1192801\n",
              "NoRatingProvided        1082303\n",
              "Between 10K and 500K      35779\n",
              "More than 500K             1665\n",
              "Name: Rating Type, dtype: int64"
            ]
          },
          "metadata": {},
          "execution_count": 34
        }
      ],
      "source": [
        "df_google['Rating Type'] = 'NoRatingProvided'\n",
        "df_google.loc[(df_google['Rating Count'] > 0) & (df_google['Rating Count'] <= 10000.0),'Rating Type'] = 'Less than 10K'\n",
        "df_google.loc[(df_google['Rating Count'] > 10000) & (df_google['Rating Count'] <= 500000.0),'Rating Type'] = 'Between 10K and 500K'\n",
        "df_google.loc[(df_google['Rating Count'] > 500000) & (df_google['Rating Count'] <= 138557570.0),'Rating Type'] = 'More than 500K'\n",
        "df_google['Rating Type'].value_counts()"
      ]
    },
    {
      "cell_type": "code",
      "execution_count": 35,
      "metadata": {
        "id": "qf2HWxl2n-bP",
        "colab": {
          "base_uri": "https://localhost:8080/"
        },
        "outputId": "a6c31c56-6f48-4566-db57-b91d146aea0c"
      },
      "outputs": [
        {
          "output_type": "stream",
          "name": "stdout",
          "text": [
            "<class 'pandas.core.frame.DataFrame'>\n",
            "Int64Index: 2312548 entries, 0 to 2312943\n",
            "Data columns (total 26 columns):\n",
            " #   Column             Dtype         \n",
            "---  ------             -----         \n",
            " 0   App Name           object        \n",
            " 1   App Id             object        \n",
            " 2   Category           object        \n",
            " 3   Rating             float64       \n",
            " 4   Rating Count       float64       \n",
            " 5   Installs           int64         \n",
            " 6   Minimum Installs   float64       \n",
            " 7   Maximum Installs   int64         \n",
            " 8   Price              float64       \n",
            " 9   Currency           object        \n",
            " 10  Size               float64       \n",
            " 11  Minimum Android    object        \n",
            " 12  Developer Id       object        \n",
            " 13  Developer Website  object        \n",
            " 14  Developer Email    object        \n",
            " 15  Released           datetime64[ns]\n",
            " 16  Last Updated       object        \n",
            " 17  Content Rating     object        \n",
            " 18  Privacy Policy     object        \n",
            " 19  Ad Supported       bool          \n",
            " 20  In App Purchases   bool          \n",
            " 21  Editors Choice     bool          \n",
            " 22  Scraped Time       object        \n",
            " 23  year_released      float64       \n",
            " 24  Type               object        \n",
            " 25  Rating Type        object        \n",
            "dtypes: bool(3), datetime64[ns](1), float64(6), int64(2), object(14)\n",
            "memory usage: 430.1+ MB\n"
          ]
        }
      ],
      "source": [
        "df_google.info()"
      ]
    },
    {
      "cell_type": "markdown",
      "metadata": {
        "id": "B67E7yAdZhtW"
      },
      "source": [
        "# **Visualization Insights and Correlations**"
      ]
    },
    {
      "cell_type": "code",
      "execution_count": 36,
      "metadata": {
        "id": "1l_VHSLKbbT1",
        "colab": {
          "base_uri": "https://localhost:8080/"
        },
        "outputId": "752fecc3-6354-42fe-8bbc-d9c81cb9375c"
      },
      "outputs": [
        {
          "output_type": "execute_result",
          "data": {
            "text/plain": [
              "Education                  241068\n",
              "Music & Audio              154897\n",
              "Tools                      143971\n",
              "Business                   143749\n",
              "Entertainment              138261\n",
              "Lifestyle                  118321\n",
              "Books & Reference          116716\n",
              "Personalization             89207\n",
              "Health & Fitness            83497\n",
              "Productivity                79681\n",
              "Shopping                    75240\n",
              "Food & Drink                73918\n",
              "Travel & Local              67279\n",
              "Finance                     65450\n",
              "Arcade                      53779\n",
              "Puzzle                      51151\n",
              "Casual                      50790\n",
              "Communication               48157\n",
              "Sports                      47473\n",
              "Social                      44724\n",
              "News & Magazines            42799\n",
              "Photography                 35552\n",
              "Medical                     32063\n",
              "Action                      27539\n",
              "Maps & Navigation           26721\n",
              "Simulation                  23268\n",
              "Adventure                   23193\n",
              "Educational                 21302\n",
              "Art & Design                18536\n",
              "Auto & Vehicles             18276\n",
              "House & Home                14368\n",
              "Video Players & Editors     14014\n",
              "Events                      12839\n",
              "Trivia                      11793\n",
              "Beauty                      11771\n",
              "Board                       10587\n",
              "Racing                      10360\n",
              "Role Playing                10008\n",
              "Word                         8627\n",
              "Strategy                     8517\n",
              "Card                         8175\n",
              "Weather                      7244\n",
              "Dating                       6522\n",
              "Libraries & Demo             5196\n",
              "Casino                       5076\n",
              "Music                        4201\n",
              "Parenting                    3810\n",
              "Comics                       2862\n",
              "Name: Category, dtype: int64"
            ]
          },
          "metadata": {},
          "execution_count": 36
        }
      ],
      "source": [
        "df_google['Category'].value_counts()"
      ]
    },
    {
      "cell_type": "markdown",
      "metadata": {
        "id": "lKHQ9D2ydH9j"
      },
      "source": [
        "**some categories of interest like Music and Eduction are given with different labels: there are both 'Music & Audio' and 'Music' labels as well as 'Education' and 'Educational' for education. They should be merged together to represent a single category.**"
      ]
    },
    {
      "cell_type": "code",
      "execution_count": 37,
      "metadata": {
        "id": "EBFhkbNon-W0"
      },
      "outputs": [],
      "source": [
        "# Collapse 'Music' and 'Music & Audio' into 'Music'\n",
        "df_google['Category'] = df_google['Category'].str.replace('Music & Audio', 'Music')\n",
        "# Collapse 'Educational' and 'Education' into 'Education'\n",
        "df_google['Category'] = df_google['Category'].str.replace('Educational', 'Education')"
      ]
    },
    {
      "cell_type": "markdown",
      "metadata": {
        "id": "L6dWI3Mmafdt"
      },
      "source": [
        "**What are the top 10 Categories that are installed from the Google Play Store ?**"
      ]
    },
    {
      "cell_type": "code",
      "execution_count": 38,
      "metadata": {
        "id": "IJOl4h-WgeT2"
      },
      "outputs": [],
      "source": [
        "top_cat_installed=df_google.sort_values(by =['Maximum Installs'],ascending = False)"
      ]
    },
    {
      "cell_type": "code",
      "execution_count": 39,
      "metadata": {
        "id": "XHDPxfbvhCzf",
        "colab": {
          "base_uri": "https://localhost:8080/",
          "height": 583
        },
        "outputId": "18c1a7f4-7ec4-4aec-8635-45daad174105"
      },
      "outputs": [
        {
          "output_type": "execute_result",
          "data": {
            "text/plain": [
              "<matplotlib.axes._subplots.AxesSubplot at 0x7f77f9c49910>"
            ]
          },
          "metadata": {},
          "execution_count": 39
        },
        {
          "output_type": "display_data",
          "data": {
            "text/plain": [
              "<Figure size 1008x504 with 1 Axes>"
            ],
            "image/png": "[encoded data removed]"
          },
          "metadata": {
            "needs_background": "light"
          }
        }
      ],
      "source": [
        "plt.figure(figsize=(14,7))\n",
        "plt.xticks(rotation=90)\n",
        "plt.xlabel(\"Category\")\n",
        "plt.title(\"Top 10 Installed Categories/1000000\")\n",
        "sns.barplot(x = top_cat_installed.Category[:25],y= top_cat_installed['Maximum Installs']/1000000)"
      ]
    },
    {
      "cell_type": "markdown",
      "metadata": {
        "id": "MhcbWSj6g3_8"
      },
      "source": [
        "**What are the top 10 Categories that are in Google Play Store ?**"
      ]
    },
    {
      "cell_type": "code",
      "execution_count": 40,
      "metadata": {
        "id": "r7lHntrtfnJZ",
        "colab": {
          "base_uri": "https://localhost:8080/",
          "height": 545
        },
        "outputId": "801c115f-211c-4df6-e8de-de5e41e245d8"
      },
      "outputs": [
        {
          "output_type": "execute_result",
          "data": {
            "text/plain": [
              "<matplotlib.axes._subplots.AxesSubplot at 0x7f77dafc27f0>"
            ]
          },
          "metadata": {},
          "execution_count": 40
        },
        {
          "output_type": "display_data",
          "data": {
            "text/plain": [
              "<Figure size 1008x504 with 1 Axes>"
            ],
            "image/png": "[encoded data removed]"
          },
          "metadata": {
            "needs_background": "light"
          }
        }
      ],
      "source": [
        "plt.figure(figsize=(14,7))\n",
        "plt.xticks(rotation=90)\n",
        "cat_sorted=df_google['Category'].value_counts()\n",
        "plt.xlabel(\"Category\")\n",
        "plt.ylabel(\"Count\")\n",
        "cat_sorted[:10].plot.bar()"
      ]
    },
    {
      "cell_type": "markdown",
      "metadata": {
        "id": "X3JuHuNgk2Q5"
      },
      "source": [
        "**Observation :**\n",
        "\n",
        "**As we can see from the above two plots: Maxinum number of apps present in google play store comes under Education Music, Tools and Business etc., Categories but as per the installation scenario it is different. Maximum installed apps comes under Tools, Video players & Editors ,Travel & Local, Communication etc.**"
      ]
    },
    {
      "cell_type": "code",
      "execution_count": 41,
      "metadata": {
        "id": "RteRqvp5g9Vo",
        "colab": {
          "base_uri": "https://localhost:8080/",
          "height": 481
        },
        "outputId": "9e74e740-9b4d-4404-e573-5135a6220ad2"
      },
      "outputs": [
        {
          "output_type": "execute_result",
          "data": {
            "text/plain": [
              "Text(0.5, 1.0, 'Distribution of Rating')"
            ]
          },
          "metadata": {},
          "execution_count": 41
        },
        {
          "output_type": "display_data",
          "data": {
            "text/plain": [
              "<Figure size 1008x504 with 1 Axes>"
            ],
            "image/png": "[encoded data removed]"
          },
          "metadata": {
            "needs_background": "light"
          }
        }
      ],
      "source": [
        "plt.figure(figsize=(14,7))\n",
        "g = sns.kdeplot(df_google.Rating, color=\"Blue\", shade = True)\n",
        "g.set_xlabel(\"Rating\")\n",
        "g.set_ylabel(\"Frequency\")\n",
        "plt.title('Distribution of Rating',size = 20)"
      ]
    },
    {
      "cell_type": "markdown",
      "metadata": {
        "id": "DYclVQM-oQBQ"
      },
      "source": [
        "**What is the percentage of rating count/ installs ?**\n",
        "\n",
        "how many people rate the app after installing it ? "
      ]
    },
    {
      "cell_type": "code",
      "execution_count": 42,
      "metadata": {
        "id": "SNzdSuRSrCOz"
      },
      "outputs": [],
      "source": [
        "#df_google['Rating Count']/df_google['Maximum Installs'].plot.bar()"
      ]
    },
    {
      "cell_type": "markdown",
      "metadata": {
        "id": "zRKYrjNnmBso"
      },
      "source": [
        "**Observation :**\n",
        "\n",
        "**From the above plot we can see that most people does not give a rating,But one more thing that comes out from this graph as well is that people tend to give 4+ rating the most.**"
      ]
    },
    {
      "cell_type": "markdown",
      "metadata": {
        "id": "dEb1sZxqmWKu"
      },
      "source": [
        "**What is the highest rated Category?**"
      ]
    },
    {
      "cell_type": "code",
      "execution_count": 43,
      "metadata": {
        "id": "A7QkG1e_luZN",
        "colab": {
          "base_uri": "https://localhost:8080/",
          "height": 583
        },
        "outputId": "6383227c-b845-4869-d39a-d395c34a86c8"
      },
      "outputs": [
        {
          "output_type": "execute_result",
          "data": {
            "text/plain": [
              "<matplotlib.axes._subplots.AxesSubplot at 0x7f77cde6fca0>"
            ]
          },
          "metadata": {},
          "execution_count": 43
        },
        {
          "output_type": "display_data",
          "data": {
            "text/plain": [
              "<Figure size 1008x504 with 1 Axes>"
            ],
            "image/png": "[encoded data removed]"
          },
          "metadata": {
            "needs_background": "light"
          }
        }
      ],
      "source": [
        "plt.figure(figsize=(14,7))\n",
        "plt.xticks(rotation=90)\n",
        "plt.xlabel(\"Highest Rated Category\")\n",
        "plt.ylabel(\"Number of applications\")\n",
        "plt.title(\"All Categories Rating \")\n",
        "sns.barplot(x = df_google.Category,y = df_google.Rating)"
      ]
    },
    {
      "cell_type": "markdown",
      "metadata": {
        "id": "ff8vpxwEmhmn"
      },
      "source": [
        "**From the above plot we can see that Role Playing is the highest Rated category**"
      ]
    },
    {
      "cell_type": "markdown",
      "metadata": {
        "id": "w2F47Crcmuu3"
      },
      "source": [
        "**How does the size of the Application impacts the Installation ?**"
      ]
    },
    {
      "cell_type": "code",
      "execution_count": 44,
      "metadata": {
        "id": "N_lKlgHAmQlK",
        "colab": {
          "base_uri": "https://localhost:8080/",
          "height": 476
        },
        "outputId": "4184c059-78a6-4aad-8784-10cec58f213e"
      },
      "outputs": [
        {
          "output_type": "execute_result",
          "data": {
            "text/plain": [
              "<matplotlib.axes._subplots.AxesSubplot at 0x7f77ddc57c40>"
            ]
          },
          "metadata": {},
          "execution_count": 44
        },
        {
          "output_type": "display_data",
          "data": {
            "text/plain": [
              "<Figure size 1008x504 with 1 Axes>"
            ],
            "image/png": "[encoded data removed]"
          },
          "metadata": {
            "needs_background": "light"
          }
        }
      ],
      "source": [
        "plt.figure(figsize=(14,7))\n",
        "plt.xlabel(\"Size\")\n",
        "plt.ylabel(\"Installs\")\n",
        "plt.title(\"Impact of Application Size in Installation\")\n",
        "sns.scatterplot(x = 'Size',y = 'Installs', hue='Type', data=df_google)"
      ]
    },
    {
      "cell_type": "markdown",
      "metadata": {
        "id": "d-SOWGsFnbFv"
      },
      "source": [
        "**from the above plot we can see that size impacts the number of installations. Applications with large size are less installed by the user.**"
      ]
    },
    {
      "cell_type": "code",
      "execution_count": 45,
      "metadata": {
        "id": "ueyEXYpzmviv",
        "colab": {
          "base_uri": "https://localhost:8080/",
          "height": 456
        },
        "outputId": "9d09136e-85a9-443d-c3e4-864b9871942d"
      },
      "outputs": [
        {
          "output_type": "display_data",
          "data": {
            "text/plain": [
              "<Figure size 1440x432 with 2 Axes>"
            ],
            "image/png": "[encoded data removed]"
          },
          "metadata": {
            "needs_background": "light"
          }
        }
      ],
      "source": [
        "corr=df_google.corr()\n",
        "sns.heatmap(corr, xticklabels=corr.columns, yticklabels=corr.columns, annot=True, cmap=sns.diverging_palette(220, 20, as_cmap=True))\n",
        "sns.set(rc={'figure.figsize':(12,10)})"
      ]
    },
    {
      "cell_type": "markdown",
      "metadata": {
        "id": "2YWmpo8un65z"
      },
      "source": [
        "**Observation :**\n",
        "\n",
        "**Factors like AdSupport and InappPurchases are correlated to app rating. So we can say that if the app provides customer support and have subscription plans we can engage more customers. We can also see from the same graph that the editor's choice plays a important role as well. With high editor choice we can see high ratings count and high installs.**"
      ]
    },
    {
      "cell_type": "markdown",
      "metadata": {
        "id": "BE1ZWPYkDRKM"
      },
      "source": [
        "# **Preparing the data for the model**"
      ]
    },
    {
      "cell_type": "markdown",
      "source": [
        "**Encoding**"
      ],
      "metadata": {
        "id": "Fdab80skak2Y"
      }
    },
    {
      "cell_type": "code",
      "execution_count": 46,
      "metadata": {
        "id": "PaoIsnMQ8FQK"
      },
      "outputs": [],
      "source": [
        "#encoding objects columns\n",
        "cleanup_nums = {\n",
        "                \"Type\": {\"Free\": 0, \"Paid\": 1}              \n",
        "                }\n",
        "df_google = df_google.replace(cleanup_nums)\n"
      ]
    },
    {
      "cell_type": "code",
      "source": [
        "df_google['Type'] = df_google['Type'].astype('bool')"
      ],
      "metadata": {
        "id": "Uz7Ng6T1FX82"
      },
      "execution_count": 47,
      "outputs": []
    },
    {
      "cell_type": "code",
      "source": [
        "df_google = pd.get_dummies(df_google,columns=['Category','Content Rating'],drop_first=True)"
      ],
      "metadata": {
        "id": "FVCdUoU8DadB"
      },
      "execution_count": 48,
      "outputs": []
    },
    {
      "cell_type": "code",
      "source": [
        "df_google.head(10)"
      ],
      "metadata": {
        "colab": {
          "base_uri": "https://localhost:8080/",
          "height": 734
        },
        "id": "7D80W3j2D3mi",
        "outputId": "91b2700d-f846-4d83-8502-9d622ccfa3ae"
      },
      "execution_count": 49,
      "outputs": [
        {
          "output_type": "execute_result",
          "data": {
            "text/plain": [
              "                                            App Name  \\\n",
              "0                                            Gakondo   \n",
              "1                                Ampere Battery Info   \n",
              "2                                             Vibook   \n",
              "3  Smart City Trichy Public Service Vehicles 17UC...   \n",
              "4                                            GROW.me   \n",
              "5                                             IMOCCI   \n",
              "6                   unlimited 4G data prank free app   \n",
              "7                              The Everyday Calendar   \n",
              "8                                          WhatsOpen   \n",
              "9                   Neon 3d Iron Tech Keyboard Theme   \n",
              "\n",
              "                                          App Id  Rating  Rating Count  \\\n",
              "0                            com.ishakwe.gakondo     0.0           0.0   \n",
              "1                     com.webserveis.batteryinfo     4.4          64.0   \n",
              "2                           com.doantiepvien.crm     0.0           0.0   \n",
              "3                        cst.stJoseph.ug17ucs548     5.0           5.0   \n",
              "4                           com.horodyski.grower     0.0           0.0   \n",
              "5                                     com.imocci     0.0           0.0   \n",
              "6  getfreedata.superfatiza.unlimitedjiodataprank     4.5          12.0   \n",
              "7                         com.mozaix.simoneboard     2.0          39.0   \n",
              "8                              com.whatsopen.app     0.0           0.0   \n",
              "9          com.ikeyboard.theme.neon_3d.iron.tech     4.7         820.0   \n",
              "\n",
              "   Installs  Minimum Installs  Maximum Installs  Price Currency  Size  ...  \\\n",
              "0        10              10.0                15    0.0      USD  10.0  ...   \n",
              "1      5000            5000.0              7662    0.0      USD   2.9  ...   \n",
              "2        50              50.0                58    0.0      USD   3.7  ...   \n",
              "3        10              10.0                19    0.0      USD   1.8  ...   \n",
              "4       100             100.0               478    0.0      USD   6.2  ...   \n",
              "5        50              50.0                89    0.0      USD  46.0  ...   \n",
              "6      1000            1000.0              2567    0.0      USD   2.5  ...   \n",
              "7       500             500.0               702    0.0      USD  16.0  ...   \n",
              "8        10              10.0                18    0.0      USD   1.3  ...   \n",
              "9     50000           50000.0             62433    0.0      USD   3.5  ...   \n",
              "\n",
              "  Category_Sports Category_Strategy Category_Tools Category_Travel & Local  \\\n",
              "0               0                 0              0                       0   \n",
              "1               0                 0              1                       0   \n",
              "2               0                 0              0                       0   \n",
              "3               0                 0              0                       0   \n",
              "4               0                 0              1                       0   \n",
              "5               0                 0              0                       0   \n",
              "6               0                 0              0                       0   \n",
              "7               0                 0              0                       0   \n",
              "8               0                 0              0                       0   \n",
              "9               0                 0              0                       0   \n",
              "\n",
              "  Category_Trivia Category_Video Players & Editors Category_Weather  \\\n",
              "0               0                                0                0   \n",
              "1               0                                0                0   \n",
              "2               0                                0                0   \n",
              "3               0                                0                0   \n",
              "4               0                                0                0   \n",
              "5               0                                0                0   \n",
              "6               0                                0                0   \n",
              "7               0                                0                0   \n",
              "8               0                                0                0   \n",
              "9               0                                0                0   \n",
              "\n",
              "   Category_Word  Content Rating_Everyone  Content Rating_Teen  \n",
              "0              0                        1                    0  \n",
              "1              0                        1                    0  \n",
              "2              0                        1                    0  \n",
              "3              0                        1                    0  \n",
              "4              0                        1                    0  \n",
              "5              0                        0                    1  \n",
              "6              0                        1                    0  \n",
              "7              0                        1                    0  \n",
              "8              0                        0                    1  \n",
              "9              0                        1                    0  \n",
              "\n",
              "[10 rows x 71 columns]"
            ],
            "text/html": [
              "\n",
              "  <div id=\"df-d8d5af59-40e7-43a9-aa07-7f185f2658d8\">\n",
              "    <div class=\"colab-df-container\">\n",
              "      <div>\n",
              "<style scoped>\n",
              "    .dataframe tbody tr th:only-of-type {\n",
              "        vertical-align: middle;\n",
              "    }\n",
              "\n",
              "    .dataframe tbody tr th {\n",
              "        vertical-align: top;\n",
              "    }\n",
              "\n",
              "    .dataframe thead th {\n",
              "        text-align: right;\n",
              "    }\n",
              "</style>\n",
              "<table border=\"1\" class=\"dataframe\">\n",
              "  <thead>\n",
              "    <tr style=\"text-align: right;\">\n",
              "      <th></th>\n",
              "      <th>App Name</th>\n",
              "      <th>App Id</th>\n",
              "      <th>Rating</th>\n",
              "      <th>Rating Count</th>\n",
              "      <th>Installs</th>\n",
              "      <th>Minimum Installs</th>\n",
              "      <th>Maximum Installs</th>\n",
              "      <th>Price</th>\n",
              "      <th>Currency</th>\n",
              "      <th>Size</th>\n",
              "      <th>...</th>\n",
              "      <th>Category_Sports</th>\n",
              "      <th>Category_Strategy</th>\n",
              "      <th>Category_Tools</th>\n",
              "      <th>Category_Travel &amp; Local</th>\n",
              "      <th>Category_Trivia</th>\n",
              "      <th>Category_Video Players &amp; Editors</th>\n",
              "      <th>Category_Weather</th>\n",
              "      <th>Category_Word</th>\n",
              "      <th>Content Rating_Everyone</th>\n",
              "      <th>Content Rating_Teen</th>\n",
              "    </tr>\n",
              "  </thead>\n",
              "  <tbody>\n",
              "    <tr>\n",
              "      <th>0</th>\n",
              "      <td>Gakondo</td>\n",
              "      <td>com.ishakwe.gakondo</td>\n",
              "      <td>0.0</td>\n",
              "      <td>0.0</td>\n",
              "      <td>10</td>\n",
              "      <td>10.0</td>\n",
              "      <td>15</td>\n",
              "      <td>0.0</td>\n",
              "      <td>USD</td>\n",
              "      <td>10.0</td>\n",
              "      <td>...</td>\n",
              "      <td>0</td>\n",
              "      <td>0</td>\n",
              "      <td>0</td>\n",
              "      <td>0</td>\n",
              "      <td>0</td>\n",
              "      <td>0</td>\n",
              "      <td>0</td>\n",
              "      <td>0</td>\n",
              "      <td>1</td>\n",
              "      <td>0</td>\n",
              "    </tr>\n",
              "    <tr>\n",
              "      <th>1</th>\n",
              "      <td>Ampere Battery Info</td>\n",
              "      <td>com.webserveis.batteryinfo</td>\n",
              "      <td>4.4</td>\n",
              "      <td>64.0</td>\n",
              "      <td>5000</td>\n",
              "      <td>5000.0</td>\n",
              "      <td>7662</td>\n",
              "      <td>0.0</td>\n",
              "      <td>USD</td>\n",
              "      <td>2.9</td>\n",
              "      <td>...</td>\n",
              "      <td>0</td>\n",
              "      <td>0</td>\n",
              "      <td>1</td>\n",
              "      <td>0</td>\n",
              "      <td>0</td>\n",
              "      <td>0</td>\n",
              "      <td>0</td>\n",
              "      <td>0</td>\n",
              "      <td>1</td>\n",
              "      <td>0</td>\n",
              "    </tr>\n",
              "    <tr>\n",
              "      <th>2</th>\n",
              "      <td>Vibook</td>\n",
              "      <td>com.doantiepvien.crm</td>\n",
              "      <td>0.0</td>\n",
              "      <td>0.0</td>\n",
              "      <td>50</td>\n",
              "      <td>50.0</td>\n",
              "      <td>58</td>\n",
              "      <td>0.0</td>\n",
              "      <td>USD</td>\n",
              "      <td>3.7</td>\n",
              "      <td>...</td>\n",
              "      <td>0</td>\n",
              "      <td>0</td>\n",
              "      <td>0</td>\n",
              "      <td>0</td>\n",
              "      <td>0</td>\n",
              "      <td>0</td>\n",
              "      <td>0</td>\n",
              "      <td>0</td>\n",
              "      <td>1</td>\n",
              "      <td>0</td>\n",
              "    </tr>\n",
              "    <tr>\n",
              "      <th>3</th>\n",
              "      <td>Smart City Trichy Public Service Vehicles 17UC...</td>\n",
              "      <td>cst.stJoseph.ug17ucs548</td>\n",
              "      <td>5.0</td>\n",
              "      <td>5.0</td>\n",
              "      <td>10</td>\n",
              "      <td>10.0</td>\n",
              "      <td>19</td>\n",
              "      <td>0.0</td>\n",
              "      <td>USD</td>\n",
              "      <td>1.8</td>\n",
              "      <td>...</td>\n",
              "      <td>0</td>\n",
              "      <td>0</td>\n",
              "      <td>0</td>\n",
              "      <td>0</td>\n",
              "      <td>0</td>\n",
              "      <td>0</td>\n",
              "      <td>0</td>\n",
              "      <td>0</td>\n",
              "      <td>1</td>\n",
              "      <td>0</td>\n",
              "    </tr>\n",
              "    <tr>\n",
              "      <th>4</th>\n",
              "      <td>GROW.me</td>\n",
              "      <td>com.horodyski.grower</td>\n",
              "      <td>0.0</td>\n",
              "      <td>0.0</td>\n",
              "      <td>100</td>\n",
              "      <td>100.0</td>\n",
              "      <td>478</td>\n",
              "      <td>0.0</td>\n",
              "      <td>USD</td>\n",
              "      <td>6.2</td>\n",
              "      <td>...</td>\n",
              "      <td>0</td>\n",
              "      <td>0</td>\n",
              "      <td>1</td>\n",
              "      <td>0</td>\n",
              "      <td>0</td>\n",
              "      <td>0</td>\n",
              "      <td>0</td>\n",
              "      <td>0</td>\n",
              "      <td>1</td>\n",
              "      <td>0</td>\n",
              "    </tr>\n",
              "    <tr>\n",
              "      <th>5</th>\n",
              "      <td>IMOCCI</td>\n",
              "      <td>com.imocci</td>\n",
              "      <td>0.0</td>\n",
              "      <td>0.0</td>\n",
              "      <td>50</td>\n",
              "      <td>50.0</td>\n",
              "      <td>89</td>\n",
              "      <td>0.0</td>\n",
              "      <td>USD</td>\n",
              "      <td>46.0</td>\n",
              "      <td>...</td>\n",
              "      <td>0</td>\n",
              "      <td>0</td>\n",
              "      <td>0</td>\n",
              "      <td>0</td>\n",
              "      <td>0</td>\n",
              "      <td>0</td>\n",
              "      <td>0</td>\n",
              "      <td>0</td>\n",
              "      <td>0</td>\n",
              "      <td>1</td>\n",
              "    </tr>\n",
              "    <tr>\n",
              "      <th>6</th>\n",
              "      <td>unlimited 4G data prank free app</td>\n",
              "      <td>getfreedata.superfatiza.unlimitedjiodataprank</td>\n",
              "      <td>4.5</td>\n",
              "      <td>12.0</td>\n",
              "      <td>1000</td>\n",
              "      <td>1000.0</td>\n",
              "      <td>2567</td>\n",
              "      <td>0.0</td>\n",
              "      <td>USD</td>\n",
              "      <td>2.5</td>\n",
              "      <td>...</td>\n",
              "      <td>0</td>\n",
              "      <td>0</td>\n",
              "      <td>0</td>\n",
              "      <td>0</td>\n",
              "      <td>0</td>\n",
              "      <td>0</td>\n",
              "      <td>0</td>\n",
              "      <td>0</td>\n",
              "      <td>1</td>\n",
              "      <td>0</td>\n",
              "    </tr>\n",
              "    <tr>\n",
              "      <th>7</th>\n",
              "      <td>The Everyday Calendar</td>\n",
              "      <td>com.mozaix.simoneboard</td>\n",
              "      <td>2.0</td>\n",
              "      <td>39.0</td>\n",
              "      <td>500</td>\n",
              "      <td>500.0</td>\n",
              "      <td>702</td>\n",
              "      <td>0.0</td>\n",
              "      <td>USD</td>\n",
              "      <td>16.0</td>\n",
              "      <td>...</td>\n",
              "      <td>0</td>\n",
              "      <td>0</td>\n",
              "      <td>0</td>\n",
              "      <td>0</td>\n",
              "      <td>0</td>\n",
              "      <td>0</td>\n",
              "      <td>0</td>\n",
              "      <td>0</td>\n",
              "      <td>1</td>\n",
              "      <td>0</td>\n",
              "    </tr>\n",
              "    <tr>\n",
              "      <th>8</th>\n",
              "      <td>WhatsOpen</td>\n",
              "      <td>com.whatsopen.app</td>\n",
              "      <td>0.0</td>\n",
              "      <td>0.0</td>\n",
              "      <td>10</td>\n",
              "      <td>10.0</td>\n",
              "      <td>18</td>\n",
              "      <td>0.0</td>\n",
              "      <td>USD</td>\n",
              "      <td>1.3</td>\n",
              "      <td>...</td>\n",
              "      <td>0</td>\n",
              "      <td>0</td>\n",
              "      <td>0</td>\n",
              "      <td>0</td>\n",
              "      <td>0</td>\n",
              "      <td>0</td>\n",
              "      <td>0</td>\n",
              "      <td>0</td>\n",
              "      <td>0</td>\n",
              "      <td>1</td>\n",
              "    </tr>\n",
              "    <tr>\n",
              "      <th>9</th>\n",
              "      <td>Neon 3d Iron Tech Keyboard Theme</td>\n",
              "      <td>com.ikeyboard.theme.neon_3d.iron.tech</td>\n",
              "      <td>4.7</td>\n",
              "      <td>820.0</td>\n",
              "      <td>50000</td>\n",
              "      <td>50000.0</td>\n",
              "      <td>62433</td>\n",
              "      <td>0.0</td>\n",
              "      <td>USD</td>\n",
              "      <td>3.5</td>\n",
              "      <td>...</td>\n",
              "      <td>0</td>\n",
              "      <td>0</td>\n",
              "      <td>0</td>\n",
              "      <td>0</td>\n",
              "      <td>0</td>\n",
              "      <td>0</td>\n",
              "      <td>0</td>\n",
              "      <td>0</td>\n",
              "      <td>1</td>\n",
              "      <td>0</td>\n",
              "    </tr>\n",
              "  </tbody>\n",
              "</table>\n",
              "<p>10 rows × 71 columns</p>\n",
              "</div>\n",
              "      <button class=\"colab-df-convert\" onclick=\"convertToInteractive('df-d8d5af59-40e7-43a9-aa07-7f185f2658d8')\"\n",
              "              title=\"Convert this dataframe to an interactive table.\"\n",
              "              style=\"display:none;\">\n",
              "        \n",
              "  <svg xmlns=\"http://www.w3.org/2000/svg\" height=\"24px\"viewBox=\"0 0 24 24\"\n",
              "       width=\"24px\">\n",
              "    <path d=\"M0 0h24v24H0V0z\" fill=\"none\"/>\n",
              "    <path d=\"M18.56 5.44l.94 2.06.94-2.06 2.06-.94-2.06-.94-.94-2.06-.94 2.06-2.06.94zm-11 1L8.5 8.5l.94-2.06 2.06-.94-2.06-.94L8.5 2.5l-.94 2.06-2.06.94zm10 10l.94 2.06.94-2.06 2.06-.94-2.06-.94-.94-2.06-.94 2.06-2.06.94z\"/><path d=\"M17.41 7.96l-1.37-1.37c-.4-.4-.92-.59-1.43-.59-.52 0-1.04.2-1.43.59L10.3 9.45l-7.72 7.72c-.78.78-.78 2.05 0 2.83L4 21.41c.39.39.9.59 1.41.59.51 0 1.02-.2 1.41-.59l7.78-7.78 2.81-2.81c.8-.78.8-2.07 0-2.86zM5.41 20L4 18.59l7.72-7.72 1.47 1.35L5.41 20z\"/>\n",
              "  </svg>\n",
              "      </button>\n",
              "      \n",
              "  <style>\n",
              "    .colab-df-container {\n",
              "      display:flex;\n",
              "      flex-wrap:wrap;\n",
              "      gap: 12px;\n",
              "    }\n",
              "\n",
              "    .colab-df-convert {\n",
              "      background-color: #E8F0FE;\n",
              "      border: none;\n",
              "      border-radius: 50%;\n",
              "      cursor: pointer;\n",
              "      display: none;\n",
              "      fill: #1967D2;\n",
              "      height: 32px;\n",
              "      padding: 0 0 0 0;\n",
              "      width: 32px;\n",
              "    }\n",
              "\n",
              "    .colab-df-convert:hover {\n",
              "      background-color: #E2EBFA;\n",
              "      box-shadow: 0px 1px 2px rgba(60, 64, 67, 0.3), 0px 1px 3px 1px rgba(60, 64, 67, 0.15);\n",
              "      fill: #174EA6;\n",
              "    }\n",
              "\n",
              "    [theme=dark] .colab-df-convert {\n",
              "      background-color: #3B4455;\n",
              "      fill: #D2E3FC;\n",
              "    }\n",
              "\n",
              "    [theme=dark] .colab-df-convert:hover {\n",
              "      background-color: #434B5C;\n",
              "      box-shadow: 0px 1px 3px 1px rgba(0, 0, 0, 0.15);\n",
              "      filter: drop-shadow(0px 1px 2px rgba(0, 0, 0, 0.3));\n",
              "      fill: #FFFFFF;\n",
              "    }\n",
              "  </style>\n",
              "\n",
              "      <script>\n",
              "        const buttonEl =\n",
              "          document.querySelector('#df-d8d5af59-40e7-43a9-aa07-7f185f2658d8 button.colab-df-convert');\n",
              "        buttonEl.style.display =\n",
              "          google.colab.kernel.accessAllowed ? 'block' : 'none';\n",
              "\n",
              "        async function convertToInteractive(key) {\n",
              "          const element = document.querySelector('#df-d8d5af59-40e7-43a9-aa07-7f185f2658d8');\n",
              "          const dataTable =\n",
              "            await google.colab.kernel.invokeFunction('convertToInteractive',\n",
              "                                                     [key], {});\n",
              "          if (!dataTable) return;\n",
              "\n",
              "          const docLinkHtml = 'Like what you see? Visit the ' +\n",
              "            '<a target=\"_blank\" href=https://colab.research.google.com/notebooks/data_table.ipynb>data table notebook</a>'\n",
              "            + ' to learn more about interactive tables.';\n",
              "          element.innerHTML = '';\n",
              "          dataTable['output_type'] = 'display_data';\n",
              "          await google.colab.output.renderOutput(dataTable, element);\n",
              "          const docLink = document.createElement('div');\n",
              "          docLink.innerHTML = docLinkHtml;\n",
              "          element.appendChild(docLink);\n",
              "        }\n",
              "      </script>\n",
              "    </div>\n",
              "  </div>\n",
              "  "
            ]
          },
          "metadata": {},
          "execution_count": 49
        }
      ]
    },
    {
      "cell_type": "markdown",
      "source": [
        "**Dropping unneccecry columns**"
      ],
      "metadata": {
        "id": "GO6oJzh0anuC"
      }
    },
    {
      "cell_type": "code",
      "execution_count": 50,
      "metadata": {
        "id": "WuxCB1QC9BeN"
      },
      "outputs": [],
      "source": [
        "#dropping columns that can not be encoded or don't want it to affect \n",
        "df_google=df_google.drop(['App Id','Currency','Minimum Android','Developer Website','Developer Email','Last Updated','Scraped Time','App Name','Developer Id','Rating Type','Released'],axis=1)"
      ]
    },
    {
      "cell_type": "markdown",
      "source": [
        "**Privacy column**"
      ],
      "metadata": {
        "id": "N7Snvbnpas4a"
      }
    },
    {
      "cell_type": "code",
      "execution_count": 51,
      "metadata": {
        "id": "nFNKrt_48ltF",
        "colab": {
          "base_uri": "https://localhost:8080/"
        },
        "outputId": "8318fe02-8aea-4a8a-8bf6-ffaead4593f9"
      },
      "outputs": [
        {
          "output_type": "execute_result",
          "data": {
            "text/plain": [
              "420845"
            ]
          },
          "metadata": {},
          "execution_count": 51
        }
      ],
      "source": [
        "#dealing with privacy policy column\n",
        "df_google['Privacy Policy'].isnull().sum()"
      ]
    },
    {
      "cell_type": "code",
      "execution_count": 52,
      "metadata": {
        "id": "FhvhUIV1BHbD"
      },
      "outputs": [],
      "source": [
        "df_google[\"Privacy Policy\"] = df_google[\"Privacy Policy\"].fillna(0)"
      ]
    },
    {
      "cell_type": "code",
      "execution_count": 53,
      "metadata": {
        "id": "LzhDzvIZAai-"
      },
      "outputs": [],
      "source": [
        "#any roe with privacy ploicy is true, it means it has privacy policy\n",
        "df_google['Privacy Policy']=df_google['Privacy Policy'].str.contains('http', regex=True)"
      ]
    },
    {
      "cell_type": "code",
      "source": [
        "df_google[\"Privacy Policy\"] = df_google[\"Privacy Policy\"].fillna(0)"
      ],
      "metadata": {
        "id": "rtN4ShWUTaq1"
      },
      "execution_count": 54,
      "outputs": []
    },
    {
      "cell_type": "code",
      "execution_count": 55,
      "metadata": {
        "id": "4V74XUOCB31U",
        "colab": {
          "base_uri": "https://localhost:8080/"
        },
        "outputId": "41dbe7a3-3889-4742-8f75-e78615d40e6b"
      },
      "outputs": [
        {
          "output_type": "execute_result",
          "data": {
            "text/plain": [
              "True    1891189\n",
              "0        421359\n",
              "Name: Privacy Policy, dtype: int64"
            ]
          },
          "metadata": {},
          "execution_count": 55
        }
      ],
      "source": [
        "df_google['Privacy Policy'].value_counts()"
      ]
    },
    {
      "cell_type": "code",
      "execution_count": 56,
      "metadata": {
        "id": "0uzfc-ueI8JU"
      },
      "outputs": [],
      "source": [
        "df_google['Privacy Policy'] = df_google['Privacy Policy'].astype('bool')"
      ]
    },
    {
      "cell_type": "markdown",
      "source": [
        "**Filling NAN values**"
      ],
      "metadata": {
        "id": "2Ww6FBtXayb7"
      }
    },
    {
      "cell_type": "code",
      "source": [
        "df_google['year_released'].isnull().sum()"
      ],
      "metadata": {
        "colab": {
          "base_uri": "https://localhost:8080/"
        },
        "id": "HqwoBiriYrrh",
        "outputId": "998f9236-5d3d-4bc1-bc8f-f2591f6c1bf3"
      },
      "execution_count": 57,
      "outputs": [
        {
          "output_type": "execute_result",
          "data": {
            "text/plain": [
              "70748"
            ]
          },
          "metadata": {},
          "execution_count": 57
        }
      ]
    },
    {
      "cell_type": "code",
      "source": [
        "df_google[\"year_released\"] = df_google[\"year_released\"].fillna(0)"
      ],
      "metadata": {
        "id": "oNtZKiQ7Y7wc"
      },
      "execution_count": 58,
      "outputs": []
    },
    {
      "cell_type": "code",
      "source": [
        "df_google['year_released'] = df_google['year_released'].astype('int')"
      ],
      "metadata": {
        "id": "SDbs9-TOZO2q"
      },
      "execution_count": 59,
      "outputs": []
    },
    {
      "cell_type": "code",
      "source": [
        "df_google['Rating'].isnull().sum()"
      ],
      "metadata": {
        "colab": {
          "base_uri": "https://localhost:8080/"
        },
        "id": "_x0E3Bzna6Uu",
        "outputId": "ddb39f11-4fa3-46c7-ee89-afd1ee163ee6"
      },
      "execution_count": 60,
      "outputs": [
        {
          "output_type": "execute_result",
          "data": {
            "text/plain": [
              "22572"
            ]
          },
          "metadata": {},
          "execution_count": 60
        }
      ]
    },
    {
      "cell_type": "code",
      "source": [
        "df_google[\"Rating\"] = df_google[\"Rating\"].fillna(0)"
      ],
      "metadata": {
        "id": "inMpL_Bga5gj"
      },
      "execution_count": 61,
      "outputs": []
    },
    {
      "cell_type": "code",
      "source": [
        "df_google['Rating Count'].isnull().sum()"
      ],
      "metadata": {
        "colab": {
          "base_uri": "https://localhost:8080/"
        },
        "id": "Oj0dTImxbEFL",
        "outputId": "3344ff12-ce14-4e4d-f4e2-28b015bc4061"
      },
      "execution_count": 62,
      "outputs": [
        {
          "output_type": "execute_result",
          "data": {
            "text/plain": [
              "22572"
            ]
          },
          "metadata": {},
          "execution_count": 62
        }
      ]
    },
    {
      "cell_type": "code",
      "source": [
        "df_google[\"Rating Count\"] = df_google[\"Rating Count\"].fillna(0)"
      ],
      "metadata": {
        "id": "yqHMc4JMbD_7"
      },
      "execution_count": 63,
      "outputs": []
    },
    {
      "cell_type": "code",
      "execution_count": 64,
      "metadata": {
        "id": "V0ZvRlWH7jVQ",
        "colab": {
          "base_uri": "https://localhost:8080/"
        },
        "outputId": "e736beb3-cac0-4c32-97ce-daf5a6299045"
      },
      "outputs": [
        {
          "output_type": "stream",
          "name": "stdout",
          "text": [
            "<class 'pandas.core.frame.DataFrame'>\n",
            "Int64Index: 2312548 entries, 0 to 2312943\n",
            "Data columns (total 60 columns):\n",
            " #   Column                            Dtype  \n",
            "---  ------                            -----  \n",
            " 0   Rating                            float64\n",
            " 1   Rating Count                      float64\n",
            " 2   Installs                          int64  \n",
            " 3   Minimum Installs                  float64\n",
            " 4   Maximum Installs                  int64  \n",
            " 5   Price                             float64\n",
            " 6   Size                              float64\n",
            " 7   Privacy Policy                    bool   \n",
            " 8   Ad Supported                      bool   \n",
            " 9   In App Purchases                  bool   \n",
            " 10  Editors Choice                    bool   \n",
            " 11  year_released                     int64  \n",
            " 12  Type                              bool   \n",
            " 13  Category_Adventure                uint8  \n",
            " 14  Category_Arcade                   uint8  \n",
            " 15  Category_Art & Design             uint8  \n",
            " 16  Category_Auto & Vehicles          uint8  \n",
            " 17  Category_Beauty                   uint8  \n",
            " 18  Category_Board                    uint8  \n",
            " 19  Category_Books & Reference        uint8  \n",
            " 20  Category_Business                 uint8  \n",
            " 21  Category_Card                     uint8  \n",
            " 22  Category_Casino                   uint8  \n",
            " 23  Category_Casual                   uint8  \n",
            " 24  Category_Comics                   uint8  \n",
            " 25  Category_Communication            uint8  \n",
            " 26  Category_Dating                   uint8  \n",
            " 27  Category_Education                uint8  \n",
            " 28  Category_Entertainment            uint8  \n",
            " 29  Category_Events                   uint8  \n",
            " 30  Category_Finance                  uint8  \n",
            " 31  Category_Food & Drink             uint8  \n",
            " 32  Category_Health & Fitness         uint8  \n",
            " 33  Category_House & Home             uint8  \n",
            " 34  Category_Libraries & Demo         uint8  \n",
            " 35  Category_Lifestyle                uint8  \n",
            " 36  Category_Maps & Navigation        uint8  \n",
            " 37  Category_Medical                  uint8  \n",
            " 38  Category_Music                    uint8  \n",
            " 39  Category_News & Magazines         uint8  \n",
            " 40  Category_Parenting                uint8  \n",
            " 41  Category_Personalization          uint8  \n",
            " 42  Category_Photography              uint8  \n",
            " 43  Category_Productivity             uint8  \n",
            " 44  Category_Puzzle                   uint8  \n",
            " 45  Category_Racing                   uint8  \n",
            " 46  Category_Role Playing             uint8  \n",
            " 47  Category_Shopping                 uint8  \n",
            " 48  Category_Simulation               uint8  \n",
            " 49  Category_Social                   uint8  \n",
            " 50  Category_Sports                   uint8  \n",
            " 51  Category_Strategy                 uint8  \n",
            " 52  Category_Tools                    uint8  \n",
            " 53  Category_Travel & Local           uint8  \n",
            " 54  Category_Trivia                   uint8  \n",
            " 55  Category_Video Players & Editors  uint8  \n",
            " 56  Category_Weather                  uint8  \n",
            " 57  Category_Word                     uint8  \n",
            " 58  Content Rating_Everyone           uint8  \n",
            " 59  Content Rating_Teen               uint8  \n",
            "dtypes: bool(5), float64(5), int64(3), uint8(47)\n",
            "memory usage: 273.5 MB\n"
          ]
        }
      ],
      "source": [
        "df_google.info()"
      ]
    },
    {
      "cell_type": "code",
      "source": [
        "df_google.head(10)"
      ],
      "metadata": {
        "colab": {
          "base_uri": "https://localhost:8080/",
          "height": 491
        },
        "id": "ODB0DixJFCqJ",
        "outputId": "4600be76-02ec-4428-cac1-e63fd6b01b41"
      },
      "execution_count": 65,
      "outputs": [
        {
          "output_type": "execute_result",
          "data": {
            "text/plain": [
              "   Rating  Rating Count  Installs  Minimum Installs  Maximum Installs  Price  \\\n",
              "0     0.0           0.0        10              10.0                15    0.0   \n",
              "1     4.4          64.0      5000            5000.0              7662    0.0   \n",
              "2     0.0           0.0        50              50.0                58    0.0   \n",
              "3     5.0           5.0        10              10.0                19    0.0   \n",
              "4     0.0           0.0       100             100.0               478    0.0   \n",
              "5     0.0           0.0        50              50.0                89    0.0   \n",
              "6     4.5          12.0      1000            1000.0              2567    0.0   \n",
              "7     2.0          39.0       500             500.0               702    0.0   \n",
              "8     0.0           0.0        10              10.0                18    0.0   \n",
              "9     4.7         820.0     50000           50000.0             62433    0.0   \n",
              "\n",
              "   Size  Privacy Policy  Ad Supported  In App Purchases  ...  Category_Sports  \\\n",
              "0  10.0            True         False             False  ...                0   \n",
              "1   2.9            True          True             False  ...                0   \n",
              "2   3.7            True         False             False  ...                0   \n",
              "3   1.8           False          True             False  ...                0   \n",
              "4   6.2            True         False             False  ...                0   \n",
              "5  46.0            True         False              True  ...                0   \n",
              "6   2.5            True          True             False  ...                0   \n",
              "7  16.0            True         False             False  ...                0   \n",
              "8   1.3            True         False             False  ...                0   \n",
              "9   3.5            True          True             False  ...                0   \n",
              "\n",
              "   Category_Strategy  Category_Tools  Category_Travel & Local  \\\n",
              "0                  0               0                        0   \n",
              "1                  0               1                        0   \n",
              "2                  0               0                        0   \n",
              "3                  0               0                        0   \n",
              "4                  0               1                        0   \n",
              "5                  0               0                        0   \n",
              "6                  0               0                        0   \n",
              "7                  0               0                        0   \n",
              "8                  0               0                        0   \n",
              "9                  0               0                        0   \n",
              "\n",
              "   Category_Trivia  Category_Video Players & Editors  Category_Weather  \\\n",
              "0                0                                 0                 0   \n",
              "1                0                                 0                 0   \n",
              "2                0                                 0                 0   \n",
              "3                0                                 0                 0   \n",
              "4                0                                 0                 0   \n",
              "5                0                                 0                 0   \n",
              "6                0                                 0                 0   \n",
              "7                0                                 0                 0   \n",
              "8                0                                 0                 0   \n",
              "9                0                                 0                 0   \n",
              "\n",
              "   Category_Word  Content Rating_Everyone  Content Rating_Teen  \n",
              "0              0                        1                    0  \n",
              "1              0                        1                    0  \n",
              "2              0                        1                    0  \n",
              "3              0                        1                    0  \n",
              "4              0                        1                    0  \n",
              "5              0                        0                    1  \n",
              "6              0                        1                    0  \n",
              "7              0                        1                    0  \n",
              "8              0                        0                    1  \n",
              "9              0                        1                    0  \n",
              "\n",
              "[10 rows x 60 columns]"
            ],
            "text/html": [
              "\n",
              "  <div id=\"df-07921f67-10f7-4f99-9ebb-f653fa5efed3\">\n",
              "    <div class=\"colab-df-container\">\n",
              "      <div>\n",
              "<style scoped>\n",
              "    .dataframe tbody tr th:only-of-type {\n",
              "        vertical-align: middle;\n",
              "    }\n",
              "\n",
              "    .dataframe tbody tr th {\n",
              "        vertical-align: top;\n",
              "    }\n",
              "\n",
              "    .dataframe thead th {\n",
              "        text-align: right;\n",
              "    }\n",
              "</style>\n",
              "<table border=\"1\" class=\"dataframe\">\n",
              "  <thead>\n",
              "    <tr style=\"text-align: right;\">\n",
              "      <th></th>\n",
              "      <th>Rating</th>\n",
              "      <th>Rating Count</th>\n",
              "      <th>Installs</th>\n",
              "      <th>Minimum Installs</th>\n",
              "      <th>Maximum Installs</th>\n",
              "      <th>Price</th>\n",
              "      <th>Size</th>\n",
              "      <th>Privacy Policy</th>\n",
              "      <th>Ad Supported</th>\n",
              "      <th>In App Purchases</th>\n",
              "      <th>...</th>\n",
              "      <th>Category_Sports</th>\n",
              "      <th>Category_Strategy</th>\n",
              "      <th>Category_Tools</th>\n",
              "      <th>Category_Travel &amp; Local</th>\n",
              "      <th>Category_Trivia</th>\n",
              "      <th>Category_Video Players &amp; Editors</th>\n",
              "      <th>Category_Weather</th>\n",
              "      <th>Category_Word</th>\n",
              "      <th>Content Rating_Everyone</th>\n",
              "      <th>Content Rating_Teen</th>\n",
              "    </tr>\n",
              "  </thead>\n",
              "  <tbody>\n",
              "    <tr>\n",
              "      <th>0</th>\n",
              "      <td>0.0</td>\n",
              "      <td>0.0</td>\n",
              "      <td>10</td>\n",
              "      <td>10.0</td>\n",
              "      <td>15</td>\n",
              "      <td>0.0</td>\n",
              "      <td>10.0</td>\n",
              "      <td>True</td>\n",
              "      <td>False</td>\n",
              "      <td>False</td>\n",
              "      <td>...</td>\n",
              "      <td>0</td>\n",
              "      <td>0</td>\n",
              "      <td>0</td>\n",
              "      <td>0</td>\n",
              "      <td>0</td>\n",
              "      <td>0</td>\n",
              "      <td>0</td>\n",
              "      <td>0</td>\n",
              "      <td>1</td>\n",
              "      <td>0</td>\n",
              "    </tr>\n",
              "    <tr>\n",
              "      <th>1</th>\n",
              "      <td>4.4</td>\n",
              "      <td>64.0</td>\n",
              "      <td>5000</td>\n",
              "      <td>5000.0</td>\n",
              "      <td>7662</td>\n",
              "      <td>0.0</td>\n",
              "      <td>2.9</td>\n",
              "      <td>True</td>\n",
              "      <td>True</td>\n",
              "      <td>False</td>\n",
              "      <td>...</td>\n",
              "      <td>0</td>\n",
              "      <td>0</td>\n",
              "      <td>1</td>\n",
              "      <td>0</td>\n",
              "      <td>0</td>\n",
              "      <td>0</td>\n",
              "      <td>0</td>\n",
              "      <td>0</td>\n",
              "      <td>1</td>\n",
              "      <td>0</td>\n",
              "    </tr>\n",
              "    <tr>\n",
              "      <th>2</th>\n",
              "      <td>0.0</td>\n",
              "      <td>0.0</td>\n",
              "      <td>50</td>\n",
              "      <td>50.0</td>\n",
              "      <td>58</td>\n",
              "      <td>0.0</td>\n",
              "      <td>3.7</td>\n",
              "      <td>True</td>\n",
              "      <td>False</td>\n",
              "      <td>False</td>\n",
              "      <td>...</td>\n",
              "      <td>0</td>\n",
              "      <td>0</td>\n",
              "      <td>0</td>\n",
              "      <td>0</td>\n",
              "      <td>0</td>\n",
              "      <td>0</td>\n",
              "      <td>0</td>\n",
              "      <td>0</td>\n",
              "      <td>1</td>\n",
              "      <td>0</td>\n",
              "    </tr>\n",
              "    <tr>\n",
              "      <th>3</th>\n",
              "      <td>5.0</td>\n",
              "      <td>5.0</td>\n",
              "      <td>10</td>\n",
              "      <td>10.0</td>\n",
              "      <td>19</td>\n",
              "      <td>0.0</td>\n",
              "      <td>1.8</td>\n",
              "      <td>False</td>\n",
              "      <td>True</td>\n",
              "      <td>False</td>\n",
              "      <td>...</td>\n",
              "      <td>0</td>\n",
              "      <td>0</td>\n",
              "      <td>0</td>\n",
              "      <td>0</td>\n",
              "      <td>0</td>\n",
              "      <td>0</td>\n",
              "      <td>0</td>\n",
              "      <td>0</td>\n",
              "      <td>1</td>\n",
              "      <td>0</td>\n",
              "    </tr>\n",
              "    <tr>\n",
              "      <th>4</th>\n",
              "      <td>0.0</td>\n",
              "      <td>0.0</td>\n",
              "      <td>100</td>\n",
              "      <td>100.0</td>\n",
              "      <td>478</td>\n",
              "      <td>0.0</td>\n",
              "      <td>6.2</td>\n",
              "      <td>True</td>\n",
              "      <td>False</td>\n",
              "      <td>False</td>\n",
              "      <td>...</td>\n",
              "      <td>0</td>\n",
              "      <td>0</td>\n",
              "      <td>1</td>\n",
              "      <td>0</td>\n",
              "      <td>0</td>\n",
              "      <td>0</td>\n",
              "      <td>0</td>\n",
              "      <td>0</td>\n",
              "      <td>1</td>\n",
              "      <td>0</td>\n",
              "    </tr>\n",
              "    <tr>\n",
              "      <th>5</th>\n",
              "      <td>0.0</td>\n",
              "      <td>0.0</td>\n",
              "      <td>50</td>\n",
              "      <td>50.0</td>\n",
              "      <td>89</td>\n",
              "      <td>0.0</td>\n",
              "      <td>46.0</td>\n",
              "      <td>True</td>\n",
              "      <td>False</td>\n",
              "      <td>True</td>\n",
              "      <td>...</td>\n",
              "      <td>0</td>\n",
              "      <td>0</td>\n",
              "      <td>0</td>\n",
              "      <td>0</td>\n",
              "      <td>0</td>\n",
              "      <td>0</td>\n",
              "      <td>0</td>\n",
              "      <td>0</td>\n",
              "      <td>0</td>\n",
              "      <td>1</td>\n",
              "    </tr>\n",
              "    <tr>\n",
              "      <th>6</th>\n",
              "      <td>4.5</td>\n",
              "      <td>12.0</td>\n",
              "      <td>1000</td>\n",
              "      <td>1000.0</td>\n",
              "      <td>2567</td>\n",
              "      <td>0.0</td>\n",
              "      <td>2.5</td>\n",
              "      <td>True</td>\n",
              "      <td>True</td>\n",
              "      <td>False</td>\n",
              "      <td>...</td>\n",
              "      <td>0</td>\n",
              "      <td>0</td>\n",
              "      <td>0</td>\n",
              "      <td>0</td>\n",
              "      <td>0</td>\n",
              "      <td>0</td>\n",
              "      <td>0</td>\n",
              "      <td>0</td>\n",
              "      <td>1</td>\n",
              "      <td>0</td>\n",
              "    </tr>\n",
              "    <tr>\n",
              "      <th>7</th>\n",
              "      <td>2.0</td>\n",
              "      <td>39.0</td>\n",
              "      <td>500</td>\n",
              "      <td>500.0</td>\n",
              "      <td>702</td>\n",
              "      <td>0.0</td>\n",
              "      <td>16.0</td>\n",
              "      <td>True</td>\n",
              "      <td>False</td>\n",
              "      <td>False</td>\n",
              "      <td>...</td>\n",
              "      <td>0</td>\n",
              "      <td>0</td>\n",
              "      <td>0</td>\n",
              "      <td>0</td>\n",
              "      <td>0</td>\n",
              "      <td>0</td>\n",
              "      <td>0</td>\n",
              "      <td>0</td>\n",
              "      <td>1</td>\n",
              "      <td>0</td>\n",
              "    </tr>\n",
              "    <tr>\n",
              "      <th>8</th>\n",
              "      <td>0.0</td>\n",
              "      <td>0.0</td>\n",
              "      <td>10</td>\n",
              "      <td>10.0</td>\n",
              "      <td>18</td>\n",
              "      <td>0.0</td>\n",
              "      <td>1.3</td>\n",
              "      <td>True</td>\n",
              "      <td>False</td>\n",
              "      <td>False</td>\n",
              "      <td>...</td>\n",
              "      <td>0</td>\n",
              "      <td>0</td>\n",
              "      <td>0</td>\n",
              "      <td>0</td>\n",
              "      <td>0</td>\n",
              "      <td>0</td>\n",
              "      <td>0</td>\n",
              "      <td>0</td>\n",
              "      <td>0</td>\n",
              "      <td>1</td>\n",
              "    </tr>\n",
              "    <tr>\n",
              "      <th>9</th>\n",
              "      <td>4.7</td>\n",
              "      <td>820.0</td>\n",
              "      <td>50000</td>\n",
              "      <td>50000.0</td>\n",
              "      <td>62433</td>\n",
              "      <td>0.0</td>\n",
              "      <td>3.5</td>\n",
              "      <td>True</td>\n",
              "      <td>True</td>\n",
              "      <td>False</td>\n",
              "      <td>...</td>\n",
              "      <td>0</td>\n",
              "      <td>0</td>\n",
              "      <td>0</td>\n",
              "      <td>0</td>\n",
              "      <td>0</td>\n",
              "      <td>0</td>\n",
              "      <td>0</td>\n",
              "      <td>0</td>\n",
              "      <td>1</td>\n",
              "      <td>0</td>\n",
              "    </tr>\n",
              "  </tbody>\n",
              "</table>\n",
              "<p>10 rows × 60 columns</p>\n",
              "</div>\n",
              "      <button class=\"colab-df-convert\" onclick=\"convertToInteractive('df-07921f67-10f7-4f99-9ebb-f653fa5efed3')\"\n",
              "              title=\"Convert this dataframe to an interactive table.\"\n",
              "              style=\"display:none;\">\n",
              "        \n",
              "  <svg xmlns=\"http://www.w3.org/2000/svg\" height=\"24px\"viewBox=\"0 0 24 24\"\n",
              "       width=\"24px\">\n",
              "    <path d=\"M0 0h24v24H0V0z\" fill=\"none\"/>\n",
              "    <path d=\"M18.56 5.44l.94 2.06.94-2.06 2.06-.94-2.06-.94-.94-2.06-.94 2.06-2.06.94zm-11 1L8.5 8.5l.94-2.06 2.06-.94-2.06-.94L8.5 2.5l-.94 2.06-2.06.94zm10 10l.94 2.06.94-2.06 2.06-.94-2.06-.94-.94-2.06-.94 2.06-2.06.94z\"/><path d=\"M17.41 7.96l-1.37-1.37c-.4-.4-.92-.59-1.43-.59-.52 0-1.04.2-1.43.59L10.3 9.45l-7.72 7.72c-.78.78-.78 2.05 0 2.83L4 21.41c.39.39.9.59 1.41.59.51 0 1.02-.2 1.41-.59l7.78-7.78 2.81-2.81c.8-.78.8-2.07 0-2.86zM5.41 20L4 18.59l7.72-7.72 1.47 1.35L5.41 20z\"/>\n",
              "  </svg>\n",
              "      </button>\n",
              "      \n",
              "  <style>\n",
              "    .colab-df-container {\n",
              "      display:flex;\n",
              "      flex-wrap:wrap;\n",
              "      gap: 12px;\n",
              "    }\n",
              "\n",
              "    .colab-df-convert {\n",
              "      background-color: #E8F0FE;\n",
              "      border: none;\n",
              "      border-radius: 50%;\n",
              "      cursor: pointer;\n",
              "      display: none;\n",
              "      fill: #1967D2;\n",
              "      height: 32px;\n",
              "      padding: 0 0 0 0;\n",
              "      width: 32px;\n",
              "    }\n",
              "\n",
              "    .colab-df-convert:hover {\n",
              "      background-color: #E2EBFA;\n",
              "      box-shadow: 0px 1px 2px rgba(60, 64, 67, 0.3), 0px 1px 3px 1px rgba(60, 64, 67, 0.15);\n",
              "      fill: #174EA6;\n",
              "    }\n",
              "\n",
              "    [theme=dark] .colab-df-convert {\n",
              "      background-color: #3B4455;\n",
              "      fill: #D2E3FC;\n",
              "    }\n",
              "\n",
              "    [theme=dark] .colab-df-convert:hover {\n",
              "      background-color: #434B5C;\n",
              "      box-shadow: 0px 1px 3px 1px rgba(0, 0, 0, 0.15);\n",
              "      filter: drop-shadow(0px 1px 2px rgba(0, 0, 0, 0.3));\n",
              "      fill: #FFFFFF;\n",
              "    }\n",
              "  </style>\n",
              "\n",
              "      <script>\n",
              "        const buttonEl =\n",
              "          document.querySelector('#df-07921f67-10f7-4f99-9ebb-f653fa5efed3 button.colab-df-convert');\n",
              "        buttonEl.style.display =\n",
              "          google.colab.kernel.accessAllowed ? 'block' : 'none';\n",
              "\n",
              "        async function convertToInteractive(key) {\n",
              "          const element = document.querySelector('#df-07921f67-10f7-4f99-9ebb-f653fa5efed3');\n",
              "          const dataTable =\n",
              "            await google.colab.kernel.invokeFunction('convertToInteractive',\n",
              "                                                     [key], {});\n",
              "          if (!dataTable) return;\n",
              "\n",
              "          const docLinkHtml = 'Like what you see? Visit the ' +\n",
              "            '<a target=\"_blank\" href=https://colab.research.google.com/notebooks/data_table.ipynb>data table notebook</a>'\n",
              "            + ' to learn more about interactive tables.';\n",
              "          element.innerHTML = '';\n",
              "          dataTable['output_type'] = 'display_data';\n",
              "          await google.colab.output.renderOutput(dataTable, element);\n",
              "          const docLink = document.createElement('div');\n",
              "          docLink.innerHTML = docLinkHtml;\n",
              "          element.appendChild(docLink);\n",
              "        }\n",
              "      </script>\n",
              "    </div>\n",
              "  </div>\n",
              "  "
            ]
          },
          "metadata": {},
          "execution_count": 65
        }
      ]
    },
    {
      "cell_type": "markdown",
      "source": [
        "#**Scaling Data**\n"
      ],
      "metadata": {
        "id": "cOT3P2yr1uNq"
      }
    },
    {
      "cell_type": "code",
      "source": [
        "from sklearn.preprocessing import MinMaxScaler\n",
        "# define min max scaler\n",
        "scaler = MinMaxScaler()\n",
        "# transform data\n",
        "scaled = scaler.fit_transform(df_google)"
      ],
      "metadata": {
        "id": "sodHcGrB11dD"
      },
      "execution_count": 66,
      "outputs": []
    },
    {
      "cell_type": "code",
      "source": [
        "scaled?"
      ],
      "metadata": {
        "id": "Ug7WPMrU2ILS"
      },
      "execution_count": 67,
      "outputs": []
    },
    {
      "cell_type": "code",
      "source": [
        "df_scaled=pd.DataFrame(scaled)"
      ],
      "metadata": {
        "id": "4jVdRzmx2own"
      },
      "execution_count": 68,
      "outputs": []
    },
    {
      "cell_type": "code",
      "source": [
        "df_scaled.columns=df_google.columns"
      ],
      "metadata": {
        "id": "JVwivhzWL9y0"
      },
      "execution_count": 69,
      "outputs": []
    },
    {
      "cell_type": "code",
      "source": [
        "df_scaled?"
      ],
      "metadata": {
        "id": "-C4iFBNz20fy"
      },
      "execution_count": 70,
      "outputs": []
    },
    {
      "cell_type": "code",
      "source": [
        "df_scaled.columns"
      ],
      "metadata": {
        "colab": {
          "base_uri": "https://localhost:8080/"
        },
        "id": "RLdCI2Uz29fP",
        "outputId": "0d50b71c-42ec-49af-9316-5aea418460d5"
      },
      "execution_count": 71,
      "outputs": [
        {
          "output_type": "execute_result",
          "data": {
            "text/plain": [
              "Index(['Rating', 'Rating Count', 'Installs', 'Minimum Installs',\n",
              "       'Maximum Installs', 'Price', 'Size', 'Privacy Policy', 'Ad Supported',\n",
              "       'In App Purchases', 'Editors Choice', 'year_released', 'Type',\n",
              "       'Category_Adventure', 'Category_Arcade', 'Category_Art & Design',\n",
              "       'Category_Auto & Vehicles', 'Category_Beauty', 'Category_Board',\n",
              "       'Category_Books & Reference', 'Category_Business', 'Category_Card',\n",
              "       'Category_Casino', 'Category_Casual', 'Category_Comics',\n",
              "       'Category_Communication', 'Category_Dating', 'Category_Education',\n",
              "       'Category_Entertainment', 'Category_Events', 'Category_Finance',\n",
              "       'Category_Food & Drink', 'Category_Health & Fitness',\n",
              "       'Category_House & Home', 'Category_Libraries & Demo',\n",
              "       'Category_Lifestyle', 'Category_Maps & Navigation', 'Category_Medical',\n",
              "       'Category_Music', 'Category_News & Magazines', 'Category_Parenting',\n",
              "       'Category_Personalization', 'Category_Photography',\n",
              "       'Category_Productivity', 'Category_Puzzle', 'Category_Racing',\n",
              "       'Category_Role Playing', 'Category_Shopping', 'Category_Simulation',\n",
              "       'Category_Social', 'Category_Sports', 'Category_Strategy',\n",
              "       'Category_Tools', 'Category_Travel & Local', 'Category_Trivia',\n",
              "       'Category_Video Players & Editors', 'Category_Weather', 'Category_Word',\n",
              "       'Content Rating_Everyone', 'Content Rating_Teen'],\n",
              "      dtype='object')"
            ]
          },
          "metadata": {},
          "execution_count": 71
        }
      ]
    },
    {
      "cell_type": "code",
      "execution_count": 72,
      "metadata": {
        "id": "-0auMgzJ46bh"
      },
      "outputs": [],
      "source": [
        "#Splitting the data ti train, validation and test sets\n",
        "from sklearn.model_selection import train_test_split\n",
        "x= df_scaled.drop([\"Rating\",\"Installs\",\"Minimum Installs\",\"Maximum Installs\",\"Rating Count\"],axis=1)\n",
        "y= df_scaled['Rating']\n",
        "x_train,x_test,y_train,y_test=train_test_split(x,y,test_size=0.1)"
      ]
    },
    {
      "cell_type": "code",
      "source": [
        "# no. of rows 2312548\n",
        "test_data_size = 0.1*2312548\n",
        "test_data_size"
      ],
      "metadata": {
        "colab": {
          "base_uri": "https://localhost:8080/"
        },
        "id": "xYkQ0uQmGzcV",
        "outputId": "078bb7c2-1ef4-4b2e-d274-d6925709fd55"
      },
      "execution_count": 73,
      "outputs": [
        {
          "output_type": "execute_result",
          "data": {
            "text/plain": [
              "231254.80000000002"
            ]
          },
          "metadata": {},
          "execution_count": 73
        }
      ]
    },
    {
      "cell_type": "code",
      "source": [
        "train_data_size=0.9*2312548\n",
        "train_data_size"
      ],
      "metadata": {
        "colab": {
          "base_uri": "https://localhost:8080/"
        },
        "id": "7LJ2y25zHEhU",
        "outputId": "93a49977-d0df-4fa4-8ba5-9235b8d3a880"
      },
      "execution_count": 74,
      "outputs": [
        {
          "output_type": "execute_result",
          "data": {
            "text/plain": [
              "2081293.2"
            ]
          },
          "metadata": {},
          "execution_count": 74
        }
      ]
    },
    {
      "cell_type": "code",
      "source": [
        "print(x_train.shape,y_train.shape,x_test.shape,y_test.shape)"
      ],
      "metadata": {
        "colab": {
          "base_uri": "https://localhost:8080/"
        },
        "id": "yWXxF6A7rmax",
        "outputId": "58a55e70-728d-410b-a20e-af843eee7bfe"
      },
      "execution_count": 75,
      "outputs": [
        {
          "output_type": "stream",
          "name": "stdout",
          "text": [
            "(2081293, 55) (2081293,) (231255, 55) (231255,)\n"
          ]
        }
      ]
    },
    {
      "cell_type": "code",
      "source": [
        "y_train?"
      ],
      "metadata": {
        "id": "ktbP5HuSHYAg"
      },
      "execution_count": 76,
      "outputs": []
    },
    {
      "cell_type": "code",
      "source": [
        "x_train.head(10)"
      ],
      "metadata": {
        "colab": {
          "base_uri": "https://localhost:8080/",
          "height": 491
        },
        "id": "HkYTadXcHc-V",
        "outputId": "35d958e4-0827-4609-ede1-b8d450e214a9"
      },
      "execution_count": 77,
      "outputs": [
        {
          "output_type": "execute_result",
          "data": {
            "text/plain": [
              "         Price      Size  Privacy Policy  Ad Supported  In App Purchases  \\\n",
              "945716     0.0  0.004533             1.0           0.0               0.0   \n",
              "2292301    0.0  0.008667             1.0           0.0               0.0   \n",
              "1593979    0.0  0.002467             1.0           1.0               1.0   \n",
              "129571     0.0  0.002400             1.0           1.0               0.0   \n",
              "92443      0.0  0.000327             1.0           0.0               0.0   \n",
              "1140200    0.0  0.004000             0.0           0.0               0.0   \n",
              "2311505    0.0  0.012000             1.0           1.0               0.0   \n",
              "308542     0.0  0.015333             1.0           1.0               0.0   \n",
              "2201793    0.0  0.062667             1.0           0.0               1.0   \n",
              "1932319    0.0  0.007333             1.0           1.0               0.0   \n",
              "\n",
              "         Editors Choice  year_released  Type  Category_Adventure  \\\n",
              "945716              0.0       0.998516   0.0                 0.0   \n",
              "2292301             0.0       0.999010   0.0                 0.0   \n",
              "1593979             0.0       0.996536   0.0                 0.0   \n",
              "129571              0.0       0.998516   0.0                 0.0   \n",
              "92443               0.0       0.999010   0.0                 0.0   \n",
              "1140200             0.0       0.999010   0.0                 0.0   \n",
              "2311505             0.0       1.000000   0.0                 0.0   \n",
              "308542              0.0       0.999505   0.0                 0.0   \n",
              "2201793             0.0       0.999010   0.0                 0.0   \n",
              "1932319             0.0       0.999505   0.0                 0.0   \n",
              "\n",
              "         Category_Arcade  ...  Category_Sports  Category_Strategy  \\\n",
              "945716               0.0  ...              0.0                0.0   \n",
              "2292301              0.0  ...              0.0                0.0   \n",
              "1593979              0.0  ...              0.0                0.0   \n",
              "129571               0.0  ...              1.0                0.0   \n",
              "92443                0.0  ...              0.0                0.0   \n",
              "1140200              0.0  ...              0.0                0.0   \n",
              "2311505              0.0  ...              0.0                0.0   \n",
              "308542               0.0  ...              0.0                0.0   \n",
              "2201793              0.0  ...              0.0                0.0   \n",
              "1932319              0.0  ...              0.0                0.0   \n",
              "\n",
              "         Category_Tools  Category_Travel & Local  Category_Trivia  \\\n",
              "945716              0.0                      0.0              0.0   \n",
              "2292301             0.0                      0.0              0.0   \n",
              "1593979             0.0                      0.0              0.0   \n",
              "129571              0.0                      0.0              0.0   \n",
              "92443               0.0                      0.0              0.0   \n",
              "1140200             0.0                      0.0              0.0   \n",
              "2311505             0.0                      0.0              0.0   \n",
              "308542              0.0                      0.0              0.0   \n",
              "2201793             0.0                      0.0              0.0   \n",
              "1932319             0.0                      0.0              0.0   \n",
              "\n",
              "         Category_Video Players & Editors  Category_Weather  Category_Word  \\\n",
              "945716                                0.0               0.0            0.0   \n",
              "2292301                               0.0               0.0            0.0   \n",
              "1593979                               0.0               0.0            1.0   \n",
              "129571                                0.0               0.0            0.0   \n",
              "92443                                 0.0               0.0            0.0   \n",
              "1140200                               0.0               0.0            0.0   \n",
              "2311505                               0.0               0.0            0.0   \n",
              "308542                                0.0               0.0            0.0   \n",
              "2201793                               0.0               0.0            0.0   \n",
              "1932319                               0.0               0.0            0.0   \n",
              "\n",
              "         Content Rating_Everyone  Content Rating_Teen  \n",
              "945716                       1.0                  0.0  \n",
              "2292301                      1.0                  0.0  \n",
              "1593979                      1.0                  0.0  \n",
              "129571                       1.0                  0.0  \n",
              "92443                        1.0                  0.0  \n",
              "1140200                      1.0                  0.0  \n",
              "2311505                      1.0                  0.0  \n",
              "308542                       1.0                  0.0  \n",
              "2201793                      1.0                  0.0  \n",
              "1932319                      1.0                  0.0  \n",
              "\n",
              "[10 rows x 55 columns]"
            ],
            "text/html": [
              "\n",
              "  <div id=\"df-7e81597c-e3d9-4c46-ba1a-77447061dcae\">\n",
              "    <div class=\"colab-df-container\">\n",
              "      <div>\n",
              "<style scoped>\n",
              "    .dataframe tbody tr th:only-of-type {\n",
              "        vertical-align: middle;\n",
              "    }\n",
              "\n",
              "    .dataframe tbody tr th {\n",
              "        vertical-align: top;\n",
              "    }\n",
              "\n",
              "    .dataframe thead th {\n",
              "        text-align: right;\n",
              "    }\n",
              "</style>\n",
              "<table border=\"1\" class=\"dataframe\">\n",
              "  <thead>\n",
              "    <tr style=\"text-align: right;\">\n",
              "      <th></th>\n",
              "      <th>Price</th>\n",
              "      <th>Size</th>\n",
              "      <th>Privacy Policy</th>\n",
              "      <th>Ad Supported</th>\n",
              "      <th>In App Purchases</th>\n",
              "      <th>Editors Choice</th>\n",
              "      <th>year_released</th>\n",
              "      <th>Type</th>\n",
              "      <th>Category_Adventure</th>\n",
              "      <th>Category_Arcade</th>\n",
              "      <th>...</th>\n",
              "      <th>Category_Sports</th>\n",
              "      <th>Category_Strategy</th>\n",
              "      <th>Category_Tools</th>\n",
              "      <th>Category_Travel &amp; Local</th>\n",
              "      <th>Category_Trivia</th>\n",
              "      <th>Category_Video Players &amp; Editors</th>\n",
              "      <th>Category_Weather</th>\n",
              "      <th>Category_Word</th>\n",
              "      <th>Content Rating_Everyone</th>\n",
              "      <th>Content Rating_Teen</th>\n",
              "    </tr>\n",
              "  </thead>\n",
              "  <tbody>\n",
              "    <tr>\n",
              "      <th>945716</th>\n",
              "      <td>0.0</td>\n",
              "      <td>0.004533</td>\n",
              "      <td>1.0</td>\n",
              "      <td>0.0</td>\n",
              "      <td>0.0</td>\n",
              "      <td>0.0</td>\n",
              "      <td>0.998516</td>\n",
              "      <td>0.0</td>\n",
              "      <td>0.0</td>\n",
              "      <td>0.0</td>\n",
              "      <td>...</td>\n",
              "      <td>0.0</td>\n",
              "      <td>0.0</td>\n",
              "      <td>0.0</td>\n",
              "      <td>0.0</td>\n",
              "      <td>0.0</td>\n",
              "      <td>0.0</td>\n",
              "      <td>0.0</td>\n",
              "      <td>0.0</td>\n",
              "      <td>1.0</td>\n",
              "      <td>0.0</td>\n",
              "    </tr>\n",
              "    <tr>\n",
              "      <th>2292301</th>\n",
              "      <td>0.0</td>\n",
              "      <td>0.008667</td>\n",
              "      <td>1.0</td>\n",
              "      <td>0.0</td>\n",
              "      <td>0.0</td>\n",
              "      <td>0.0</td>\n",
              "      <td>0.999010</td>\n",
              "      <td>0.0</td>\n",
              "      <td>0.0</td>\n",
              "      <td>0.0</td>\n",
              "      <td>...</td>\n",
              "      <td>0.0</td>\n",
              "      <td>0.0</td>\n",
              "      <td>0.0</td>\n",
              "      <td>0.0</td>\n",
              "      <td>0.0</td>\n",
              "      <td>0.0</td>\n",
              "      <td>0.0</td>\n",
              "      <td>0.0</td>\n",
              "      <td>1.0</td>\n",
              "      <td>0.0</td>\n",
              "    </tr>\n",
              "    <tr>\n",
              "      <th>1593979</th>\n",
              "      <td>0.0</td>\n",
              "      <td>0.002467</td>\n",
              "      <td>1.0</td>\n",
              "      <td>1.0</td>\n",
              "      <td>1.0</td>\n",
              "      <td>0.0</td>\n",
              "      <td>0.996536</td>\n",
              "      <td>0.0</td>\n",
              "      <td>0.0</td>\n",
              "      <td>0.0</td>\n",
              "      <td>...</td>\n",
              "      <td>0.0</td>\n",
              "      <td>0.0</td>\n",
              "      <td>0.0</td>\n",
              "      <td>0.0</td>\n",
              "      <td>0.0</td>\n",
              "      <td>0.0</td>\n",
              "      <td>0.0</td>\n",
              "      <td>1.0</td>\n",
              "      <td>1.0</td>\n",
              "      <td>0.0</td>\n",
              "    </tr>\n",
              "    <tr>\n",
              "      <th>129571</th>\n",
              "      <td>0.0</td>\n",
              "      <td>0.002400</td>\n",
              "      <td>1.0</td>\n",
              "      <td>1.0</td>\n",
              "      <td>0.0</td>\n",
              "      <td>0.0</td>\n",
              "      <td>0.998516</td>\n",
              "      <td>0.0</td>\n",
              "      <td>0.0</td>\n",
              "      <td>0.0</td>\n",
              "      <td>...</td>\n",
              "      <td>1.0</td>\n",
              "      <td>0.0</td>\n",
              "      <td>0.0</td>\n",
              "      <td>0.0</td>\n",
              "      <td>0.0</td>\n",
              "      <td>0.0</td>\n",
              "      <td>0.0</td>\n",
              "      <td>0.0</td>\n",
              "      <td>1.0</td>\n",
              "      <td>0.0</td>\n",
              "    </tr>\n",
              "    <tr>\n",
              "      <th>92443</th>\n",
              "      <td>0.0</td>\n",
              "      <td>0.000327</td>\n",
              "      <td>1.0</td>\n",
              "      <td>0.0</td>\n",
              "      <td>0.0</td>\n",
              "      <td>0.0</td>\n",
              "      <td>0.999010</td>\n",
              "      <td>0.0</td>\n",
              "      <td>0.0</td>\n",
              "      <td>0.0</td>\n",
              "      <td>...</td>\n",
              "      <td>0.0</td>\n",
              "      <td>0.0</td>\n",
              "      <td>0.0</td>\n",
              "      <td>0.0</td>\n",
              "      <td>0.0</td>\n",
              "      <td>0.0</td>\n",
              "      <td>0.0</td>\n",
              "      <td>0.0</td>\n",
              "      <td>1.0</td>\n",
              "      <td>0.0</td>\n",
              "    </tr>\n",
              "    <tr>\n",
              "      <th>1140200</th>\n",
              "      <td>0.0</td>\n",
              "      <td>0.004000</td>\n",
              "      <td>0.0</td>\n",
              "      <td>0.0</td>\n",
              "      <td>0.0</td>\n",
              "      <td>0.0</td>\n",
              "      <td>0.999010</td>\n",
              "      <td>0.0</td>\n",
              "      <td>0.0</td>\n",
              "      <td>0.0</td>\n",
              "      <td>...</td>\n",
              "      <td>0.0</td>\n",
              "      <td>0.0</td>\n",
              "      <td>0.0</td>\n",
              "      <td>0.0</td>\n",
              "      <td>0.0</td>\n",
              "      <td>0.0</td>\n",
              "      <td>0.0</td>\n",
              "      <td>0.0</td>\n",
              "      <td>1.0</td>\n",
              "      <td>0.0</td>\n",
              "    </tr>\n",
              "    <tr>\n",
              "      <th>2311505</th>\n",
              "      <td>0.0</td>\n",
              "      <td>0.012000</td>\n",
              "      <td>1.0</td>\n",
              "      <td>1.0</td>\n",
              "      <td>0.0</td>\n",
              "      <td>0.0</td>\n",
              "      <td>1.000000</td>\n",
              "      <td>0.0</td>\n",
              "      <td>0.0</td>\n",
              "      <td>0.0</td>\n",
              "      <td>...</td>\n",
              "      <td>0.0</td>\n",
              "      <td>0.0</td>\n",
              "      <td>0.0</td>\n",
              "      <td>0.0</td>\n",
              "      <td>0.0</td>\n",
              "      <td>0.0</td>\n",
              "      <td>0.0</td>\n",
              "      <td>0.0</td>\n",
              "      <td>1.0</td>\n",
              "      <td>0.0</td>\n",
              "    </tr>\n",
              "    <tr>\n",
              "      <th>308542</th>\n",
              "      <td>0.0</td>\n",
              "      <td>0.015333</td>\n",
              "      <td>1.0</td>\n",
              "      <td>1.0</td>\n",
              "      <td>0.0</td>\n",
              "      <td>0.0</td>\n",
              "      <td>0.999505</td>\n",
              "      <td>0.0</td>\n",
              "      <td>0.0</td>\n",
              "      <td>0.0</td>\n",
              "      <td>...</td>\n",
              "      <td>0.0</td>\n",
              "      <td>0.0</td>\n",
              "      <td>0.0</td>\n",
              "      <td>0.0</td>\n",
              "      <td>0.0</td>\n",
              "      <td>0.0</td>\n",
              "      <td>0.0</td>\n",
              "      <td>0.0</td>\n",
              "      <td>1.0</td>\n",
              "      <td>0.0</td>\n",
              "    </tr>\n",
              "    <tr>\n",
              "      <th>2201793</th>\n",
              "      <td>0.0</td>\n",
              "      <td>0.062667</td>\n",
              "      <td>1.0</td>\n",
              "      <td>0.0</td>\n",
              "      <td>1.0</td>\n",
              "      <td>0.0</td>\n",
              "      <td>0.999010</td>\n",
              "      <td>0.0</td>\n",
              "      <td>0.0</td>\n",
              "      <td>0.0</td>\n",
              "      <td>...</td>\n",
              "      <td>0.0</td>\n",
              "      <td>0.0</td>\n",
              "      <td>0.0</td>\n",
              "      <td>0.0</td>\n",
              "      <td>0.0</td>\n",
              "      <td>0.0</td>\n",
              "      <td>0.0</td>\n",
              "      <td>0.0</td>\n",
              "      <td>1.0</td>\n",
              "      <td>0.0</td>\n",
              "    </tr>\n",
              "    <tr>\n",
              "      <th>1932319</th>\n",
              "      <td>0.0</td>\n",
              "      <td>0.007333</td>\n",
              "      <td>1.0</td>\n",
              "      <td>1.0</td>\n",
              "      <td>0.0</td>\n",
              "      <td>0.0</td>\n",
              "      <td>0.999505</td>\n",
              "      <td>0.0</td>\n",
              "      <td>0.0</td>\n",
              "      <td>0.0</td>\n",
              "      <td>...</td>\n",
              "      <td>0.0</td>\n",
              "      <td>0.0</td>\n",
              "      <td>0.0</td>\n",
              "      <td>0.0</td>\n",
              "      <td>0.0</td>\n",
              "      <td>0.0</td>\n",
              "      <td>0.0</td>\n",
              "      <td>0.0</td>\n",
              "      <td>1.0</td>\n",
              "      <td>0.0</td>\n",
              "    </tr>\n",
              "  </tbody>\n",
              "</table>\n",
              "<p>10 rows × 55 columns</p>\n",
              "</div>\n",
              "      <button class=\"colab-df-convert\" onclick=\"convertToInteractive('df-7e81597c-e3d9-4c46-ba1a-77447061dcae')\"\n",
              "              title=\"Convert this dataframe to an interactive table.\"\n",
              "              style=\"display:none;\">\n",
              "        \n",
              "  <svg xmlns=\"http://www.w3.org/2000/svg\" height=\"24px\"viewBox=\"0 0 24 24\"\n",
              "       width=\"24px\">\n",
              "    <path d=\"M0 0h24v24H0V0z\" fill=\"none\"/>\n",
              "    <path d=\"M18.56 5.44l.94 2.06.94-2.06 2.06-.94-2.06-.94-.94-2.06-.94 2.06-2.06.94zm-11 1L8.5 8.5l.94-2.06 2.06-.94-2.06-.94L8.5 2.5l-.94 2.06-2.06.94zm10 10l.94 2.06.94-2.06 2.06-.94-2.06-.94-.94-2.06-.94 2.06-2.06.94z\"/><path d=\"M17.41 7.96l-1.37-1.37c-.4-.4-.92-.59-1.43-.59-.52 0-1.04.2-1.43.59L10.3 9.45l-7.72 7.72c-.78.78-.78 2.05 0 2.83L4 21.41c.39.39.9.59 1.41.59.51 0 1.02-.2 1.41-.59l7.78-7.78 2.81-2.81c.8-.78.8-2.07 0-2.86zM5.41 20L4 18.59l7.72-7.72 1.47 1.35L5.41 20z\"/>\n",
              "  </svg>\n",
              "      </button>\n",
              "      \n",
              "  <style>\n",
              "    .colab-df-container {\n",
              "      display:flex;\n",
              "      flex-wrap:wrap;\n",
              "      gap: 12px;\n",
              "    }\n",
              "\n",
              "    .colab-df-convert {\n",
              "      background-color: #E8F0FE;\n",
              "      border: none;\n",
              "      border-radius: 50%;\n",
              "      cursor: pointer;\n",
              "      display: none;\n",
              "      fill: #1967D2;\n",
              "      height: 32px;\n",
              "      padding: 0 0 0 0;\n",
              "      width: 32px;\n",
              "    }\n",
              "\n",
              "    .colab-df-convert:hover {\n",
              "      background-color: #E2EBFA;\n",
              "      box-shadow: 0px 1px 2px rgba(60, 64, 67, 0.3), 0px 1px 3px 1px rgba(60, 64, 67, 0.15);\n",
              "      fill: #174EA6;\n",
              "    }\n",
              "\n",
              "    [theme=dark] .colab-df-convert {\n",
              "      background-color: #3B4455;\n",
              "      fill: #D2E3FC;\n",
              "    }\n",
              "\n",
              "    [theme=dark] .colab-df-convert:hover {\n",
              "      background-color: #434B5C;\n",
              "      box-shadow: 0px 1px 3px 1px rgba(0, 0, 0, 0.15);\n",
              "      filter: drop-shadow(0px 1px 2px rgba(0, 0, 0, 0.3));\n",
              "      fill: #FFFFFF;\n",
              "    }\n",
              "  </style>\n",
              "\n",
              "      <script>\n",
              "        const buttonEl =\n",
              "          document.querySelector('#df-7e81597c-e3d9-4c46-ba1a-77447061dcae button.colab-df-convert');\n",
              "        buttonEl.style.display =\n",
              "          google.colab.kernel.accessAllowed ? 'block' : 'none';\n",
              "\n",
              "        async function convertToInteractive(key) {\n",
              "          const element = document.querySelector('#df-7e81597c-e3d9-4c46-ba1a-77447061dcae');\n",
              "          const dataTable =\n",
              "            await google.colab.kernel.invokeFunction('convertToInteractive',\n",
              "                                                     [key], {});\n",
              "          if (!dataTable) return;\n",
              "\n",
              "          const docLinkHtml = 'Like what you see? Visit the ' +\n",
              "            '<a target=\"_blank\" href=https://colab.research.google.com/notebooks/data_table.ipynb>data table notebook</a>'\n",
              "            + ' to learn more about interactive tables.';\n",
              "          element.innerHTML = '';\n",
              "          dataTable['output_type'] = 'display_data';\n",
              "          await google.colab.output.renderOutput(dataTable, element);\n",
              "          const docLink = document.createElement('div');\n",
              "          docLink.innerHTML = docLinkHtml;\n",
              "          element.appendChild(docLink);\n",
              "        }\n",
              "      </script>\n",
              "    </div>\n",
              "  </div>\n",
              "  "
            ]
          },
          "metadata": {},
          "execution_count": 77
        }
      ]
    },
    {
      "cell_type": "code",
      "source": [
        "y_train.head(10)"
      ],
      "metadata": {
        "colab": {
          "base_uri": "https://localhost:8080/"
        },
        "id": "SfPK9QSJHomF",
        "outputId": "d33dde90-2e95-4c1e-b472-e9c78821a72e"
      },
      "execution_count": 78,
      "outputs": [
        {
          "output_type": "execute_result",
          "data": {
            "text/plain": [
              "945716     0.00\n",
              "2292301    0.78\n",
              "1593979    0.96\n",
              "129571     0.70\n",
              "92443      1.00\n",
              "1140200    0.00\n",
              "2311505    0.78\n",
              "308542     0.88\n",
              "2201793    0.88\n",
              "1932319    0.76\n",
              "Name: Rating, dtype: float64"
            ]
          },
          "metadata": {},
          "execution_count": 78
        }
      ]
    },
    {
      "cell_type": "markdown",
      "source": [
        "# **lightgbm**"
      ],
      "metadata": {
        "id": "kDjRnMlQdw9P"
      }
    },
    {
      "cell_type": "code",
      "source": [
        "import lightgbm as lgb\n",
        "from lightgbm import LGBMRegressor\n",
        "model = LGBMRegressor()\n",
        "# fit the model on the whole dataset\n",
        "model.fit(x_train, y_train)\n",
        "ypred = model.predict(x_test)"
      ],
      "metadata": {
        "id": "Gdm6r3pHddVC"
      },
      "execution_count": 79,
      "outputs": []
    },
    {
      "cell_type": "code",
      "source": [
        "#Error Measurements\n",
        "from sklearn import metrics\n",
        "print('Mean Absolute Error:', metrics.mean_absolute_error(y_test,ypred))\n",
        "print('Mean Squared Error:', metrics.mean_squared_error(y_test, ypred))\n",
        "print('Root Mean Squared Error:', np.sqrt(metrics.mean_squared_error(y_test, ypred)))"
      ],
      "metadata": {
        "colab": {
          "base_uri": "https://localhost:8080/"
        },
        "id": "82NPV3Zud99D",
        "outputId": "bcdeac74-8fed-43a2-80cd-3ec5f9b8160e"
      },
      "execution_count": 81,
      "outputs": [
        {
          "output_type": "stream",
          "name": "stdout",
          "text": [
            "Mean Absolute Error: 0.3443124355765185\n",
            "Mean Squared Error: 0.14810783600598337\n",
            "Root Mean Squared Error: 0.3848478088881154\n"
          ]
        }
      ]
    },
    {
      "cell_type": "code",
      "source": [
        "#t-test\n",
        "from scipy import stats\n",
        "a = y_test\n",
        "b = ypred\n",
        "t2 = stats.ttest_ind(a,b)\n",
        "t2"
      ],
      "metadata": {
        "colab": {
          "base_uri": "https://localhost:8080/"
        },
        "id": "K-1TYlBaVrYP",
        "outputId": "80ea7f78-ed72-4a37-af34-5f091119326d"
      },
      "execution_count": 82,
      "outputs": [
        {
          "output_type": "execute_result",
          "data": {
            "text/plain": [
              "Ttest_indResult(statistic=-0.10358691127462509, pvalue=0.9174972199828103)"
            ]
          },
          "metadata": {},
          "execution_count": 82
        }
      ]
    },
    {
      "cell_type": "markdown",
      "source": [
        "A t-test is an inferential statistic used to determine if there is a significant difference between the means of two groups and how they are related.\n",
        "\n",
        "A large t-score, or t-value, indicates that the groups are different while a small t-score (colser to zero) indicates that the groups are similar.\n",
        "\n",
        "**Here the t-score is -0.1 and it means that the y_test(original rating) and the ypred(predicted rating) are similar.**\n",
        "\n"
      ],
      "metadata": {
        "id": "OgZ-nKos8RLK"
      }
    }
  ],
  "metadata": {
    "colab": {
      "provenance": [],
      "collapsed_sections": [
        "B67E7yAdZhtW"
      ]
    },
    "kernelspec": {
      "display_name": "Python 3",
      "name": "python3"
    },
    "language_info": {
      "name": "python"
    }
  },
  "nbformat": 4,
  "nbformat_minor": 0
}